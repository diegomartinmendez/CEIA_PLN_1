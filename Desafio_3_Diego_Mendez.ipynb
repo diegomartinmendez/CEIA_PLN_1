{
  "nbformat": 4,
  "nbformat_minor": 0,
  "metadata": {
    "colab": {
      "provenance": [],
      "authorship_tag": "ABX9TyM7T8JmN2OrDwtnbiHw9fIk",
      "include_colab_link": true
    },
    "kernelspec": {
      "name": "python3",
      "display_name": "Python 3"
    },
    "language_info": {
      "name": "python"
    }
  },
  "cells": [
    {
      "cell_type": "markdown",
      "metadata": {
        "id": "view-in-github",
        "colab_type": "text"
      },
      "source": [
        "<a href=\"https://colab.research.google.com/github/diegomartinmendez/CEIA_PLN_1/blob/main/Desafio_3_Diego_Mendez.ipynb\" target=\"_parent\"><img src=\"https://colab.research.google.com/assets/colab-badge.svg\" alt=\"Open In Colab\"/></a>"
      ]
    },
    {
      "cell_type": "markdown",
      "source": [
        "# Facultad de Ingeniería - Universidad de Buenos Aires\n",
        "## Laboratorio de Sistemas Embebidos\n",
        "## Carrera de Especialización en Inteligencia Artificial\n",
        "## Procesamiento Natual del Lenguaje I\n",
        "### 2° Bimestre 2025 - Cohorte 17\n",
        "### Mg. Ing. Diego Martín Méndez"
      ],
      "metadata": {
        "id": "_JacEcRjvRp-"
      }
    },
    {
      "cell_type": "markdown",
      "source": [
        "## Desafío 3"
      ],
      "metadata": {
        "id": "-iPvMVTgvUqH"
      }
    },
    {
      "cell_type": "code",
      "source": [
        "import random\n",
        "import io\n",
        "import pickle\n",
        "\n",
        "import numpy as np\n",
        "import pandas as pd\n",
        "import matplotlib.pyplot as plt\n",
        "from sklearn.model_selection import train_test_split\n",
        "\n",
        "from tensorflow import keras\n",
        "from tensorflow.keras import layers\n",
        "from keras.utils import to_categorical\n",
        "from keras.models import Sequential\n",
        "from keras.layers import Dense, LSTM, GRU, Embedding, Dropout\n",
        "from tensorflow.keras.losses import SparseCategoricalCrossentropy"
      ],
      "metadata": {
        "id": "tcJcX5yvEZXw"
      },
      "execution_count": 1,
      "outputs": []
    },
    {
      "cell_type": "markdown",
      "source": [
        "### Carga de Datos"
      ],
      "metadata": {
        "id": "1VkCx9Ogxvs9"
      }
    },
    {
      "cell_type": "code",
      "source": [
        "from google.colab import drive\n",
        "drive.mount('/content/drive')"
      ],
      "metadata": {
        "colab": {
          "base_uri": "https://localhost:8080/"
        },
        "id": "0Z46V-Y4NR94",
        "outputId": "0d767a80-a002-4aa9-fcf6-d149ec109a54"
      },
      "execution_count": 2,
      "outputs": [
        {
          "output_type": "stream",
          "name": "stdout",
          "text": [
            "Mounted at /content/drive\n"
          ]
        }
      ]
    },
    {
      "cell_type": "code",
      "source": [
        "pdf_path = \"/content/drive/MyDrive/Desafios_PNL1/Horacio Quiroga - Anaconda.pdf\""
      ],
      "metadata": {
        "id": "_-BDpeGvNh9q"
      },
      "execution_count": 3,
      "outputs": []
    },
    {
      "cell_type": "code",
      "source": [
        "import os\n",
        "\n",
        "print(\"¿Existe el archivo?\", os.path.exists(pdf_path))"
      ],
      "metadata": {
        "colab": {
          "base_uri": "https://localhost:8080/"
        },
        "id": "T-LvJ2piO5Ch",
        "outputId": "d05e0d11-3aa0-4b94-83dd-cf513f9c313f"
      },
      "execution_count": 4,
      "outputs": [
        {
          "output_type": "stream",
          "name": "stdout",
          "text": [
            "¿Existe el archivo? True\n"
          ]
        }
      ]
    },
    {
      "cell_type": "code",
      "source": [
        "!pip install pdfplumber\n",
        "\n",
        "import pdfplumber\n",
        "\n",
        "pdf_path = \"/content/drive/MyDrive/Desafios_PNL1/Horacio Quiroga - Anaconda.pdf\"\n",
        "\n",
        "# Leer el PDF y extraer el texto\n",
        "full_text = \"\"\n",
        "with pdfplumber.open(pdf_path) as pdf:\n",
        "    for page in pdf.pages:\n",
        "        text = page.extract_text()\n",
        "        if text:\n",
        "            full_text += text + \"\\n\""
      ],
      "metadata": {
        "colab": {
          "base_uri": "https://localhost:8080/"
        },
        "id": "f5h-840Zh7Ry",
        "outputId": "b5641644-6f68-41f3-8196-121aca9994b7"
      },
      "execution_count": 5,
      "outputs": [
        {
          "output_type": "stream",
          "name": "stdout",
          "text": [
            "Collecting pdfplumber\n",
            "  Downloading pdfplumber-0.11.7-py3-none-any.whl.metadata (42 kB)\n",
            "\u001b[?25l     \u001b[90m━━━━━━━━━━━━━━━━━━━━━━━━━━━━━━━━━━━━━━━━\u001b[0m \u001b[32m0.0/42.8 kB\u001b[0m \u001b[31m?\u001b[0m eta \u001b[36m-:--:--\u001b[0m\r\u001b[2K     \u001b[90m━━━━━━━━━━━━━━━━━━━━━━━━━━━━━━━━━━━━━━━━\u001b[0m \u001b[32m42.8/42.8 kB\u001b[0m \u001b[31m1.7 MB/s\u001b[0m eta \u001b[36m0:00:00\u001b[0m\n",
            "\u001b[?25hCollecting pdfminer.six==20250506 (from pdfplumber)\n",
            "  Downloading pdfminer_six-20250506-py3-none-any.whl.metadata (4.2 kB)\n",
            "Requirement already satisfied: Pillow>=9.1 in /usr/local/lib/python3.11/dist-packages (from pdfplumber) (11.2.1)\n",
            "Collecting pypdfium2>=4.18.0 (from pdfplumber)\n",
            "  Downloading pypdfium2-4.30.1-py3-none-manylinux_2_17_x86_64.manylinux2014_x86_64.whl.metadata (48 kB)\n",
            "\u001b[2K     \u001b[90m━━━━━━━━━━━━━━━━━━━━━━━━━━━━━━━━━━━━━━━━\u001b[0m \u001b[32m48.2/48.2 kB\u001b[0m \u001b[31m3.3 MB/s\u001b[0m eta \u001b[36m0:00:00\u001b[0m\n",
            "\u001b[?25hRequirement already satisfied: charset-normalizer>=2.0.0 in /usr/local/lib/python3.11/dist-packages (from pdfminer.six==20250506->pdfplumber) (3.4.2)\n",
            "Requirement already satisfied: cryptography>=36.0.0 in /usr/local/lib/python3.11/dist-packages (from pdfminer.six==20250506->pdfplumber) (43.0.3)\n",
            "Requirement already satisfied: cffi>=1.12 in /usr/local/lib/python3.11/dist-packages (from cryptography>=36.0.0->pdfminer.six==20250506->pdfplumber) (1.17.1)\n",
            "Requirement already satisfied: pycparser in /usr/local/lib/python3.11/dist-packages (from cffi>=1.12->cryptography>=36.0.0->pdfminer.six==20250506->pdfplumber) (2.22)\n",
            "Downloading pdfplumber-0.11.7-py3-none-any.whl (60 kB)\n",
            "\u001b[2K   \u001b[90m━━━━━━━━━━━━━━━━━━━━━━━━━━━━━━━━━━━━━━━━\u001b[0m \u001b[32m60.0/60.0 kB\u001b[0m \u001b[31m4.5 MB/s\u001b[0m eta \u001b[36m0:00:00\u001b[0m\n",
            "\u001b[?25hDownloading pdfminer_six-20250506-py3-none-any.whl (5.6 MB)\n",
            "\u001b[2K   \u001b[90m━━━━━━━━━━━━━━━━━━━━━━━━━━━━━━━━━━━━━━━━\u001b[0m \u001b[32m5.6/5.6 MB\u001b[0m \u001b[31m49.1 MB/s\u001b[0m eta \u001b[36m0:00:00\u001b[0m\n",
            "\u001b[?25hDownloading pypdfium2-4.30.1-py3-none-manylinux_2_17_x86_64.manylinux2014_x86_64.whl (2.9 MB)\n",
            "\u001b[2K   \u001b[90m━━━━━━━━━━━━━━━━━━━━━━━━━━━━━━━━━━━━━━━━\u001b[0m \u001b[32m2.9/2.9 MB\u001b[0m \u001b[31m72.3 MB/s\u001b[0m eta \u001b[36m0:00:00\u001b[0m\n",
            "\u001b[?25hInstalling collected packages: pypdfium2, pdfminer.six, pdfplumber\n",
            "Successfully installed pdfminer.six-20250506 pdfplumber-0.11.7 pypdfium2-4.30.1\n"
          ]
        }
      ]
    },
    {
      "cell_type": "code",
      "source": [
        "# Limpio el texto, sacando el encabezado y el final del texto que no pertenecen al cuento,\n",
        "# también los números de página y de capítulo, dado que traen ruido al análisis:\n",
        "\n",
        "import re\n",
        "\n",
        "# Paso 1: Cortar desde donde empieza el cuento\n",
        "start_marker = \"http://www.textos.info\"\n",
        "start_idx = full_text.find(start_marker)\n",
        "\n",
        "# Si no lo encuentra, usar desde el principio\n",
        "if start_idx != -1:\n",
        "    trimmed_text = full_text[start_idx + len(start_marker):]\n",
        "else:\n",
        "    trimmed_text = full_text\n",
        "\n",
        "# Paso 2: Cortar justo antes de la línea con el número 45\n",
        "lines = trimmed_text.splitlines()\n",
        "\n",
        "cleaned_lines = []\n",
        "for line in lines:\n",
        "    stripped = line.strip()\n",
        "\n",
        "    # Cortar si aparece la línea \"45\" sola\n",
        "    if stripped == \"45\":\n",
        "        break\n",
        "\n",
        "    # Ignorar líneas que son solo números de página\n",
        "    if stripped.isdigit():\n",
        "        continue\n",
        "\n",
        "    # Ignorar números romanos tipo \"I\", \"XIV\", etc.\n",
        "    if re.fullmatch(r'[IVXLCDM]+', stripped):\n",
        "        continue\n",
        "\n",
        "    # Agregar líneas válidas\n",
        "    cleaned_lines.append(line)\n",
        "\n",
        "# Reconstruir el texto final\n",
        "final_text = \"\\n\".join(cleaned_lines)\n",
        "\n",
        "# Normalizar saltos de línea múltiples\n",
        "final_text = re.sub(r'\\n{3,}', '\\n\\n', final_text).strip()\n"
      ],
      "metadata": {
        "id": "UKAlZRYkYxRT"
      },
      "execution_count": 6,
      "outputs": []
    },
    {
      "cell_type": "code",
      "source": [
        "# Verifico que el texto quedó limpio:\n",
        "\n",
        "print(\"--- Inicio ---\\n\")\n",
        "print(final_text[:1000])"
      ],
      "metadata": {
        "colab": {
          "base_uri": "https://localhost:8080/"
        },
        "id": "Xc5GtO7WYx2o",
        "outputId": "a522e82c-9dca-490a-f2f6-6bbc9033cae7"
      },
      "execution_count": 7,
      "outputs": [
        {
          "output_type": "stream",
          "name": "stdout",
          "text": [
            "--- Inicio ---\n",
            "\n",
            "Eran las diez de la noche y hacía un calor sofocante. El tiempo cargado\n",
            "pesaba sobre la selva, sin un soplo de viento. El cielo de carbón se\n",
            "entreabría de vez en cuando en sordos relámpagos de un extremo a otro\n",
            "del horizonte; pero el chubasco silbante del sur estaba aún lejos.\n",
            "Por un sendero de vacas en pleno espartillo blanco, avanzaba Lanceolada,\n",
            "con la lentitud genérica de las víboras. Era una hermosísima yarará, de un\n",
            "metro cincuenta, con los negros ángulos de su flanco bien cortados en\n",
            "sierra, escama por escama. Avanzaba tanteando la seguridad del terreno\n",
            "con la lengua, que en los ofidios reemplaza perfectamente a los dedos.\n",
            "Iba de caza. Al llegar a un cruce de senderos se detuvo, se arrolló\n",
            "prolijamente sobre sí misma, removiose aún un momento acomodándose y\n",
            "después de bajar la cabeza al nivel de sus anillos, asentó la mandíbula\n",
            "inferior y esperó inmóvil.\n",
            "Minuto tras minuto esperó cinco horas. Al cabo de este tiempo continuaba\n",
            "en igual inmovilidad. ¡Mala noche! Comenzaba a romper\n"
          ]
        }
      ]
    },
    {
      "cell_type": "code",
      "source": [
        "print(\"\\n--- Final ---\\n\")\n",
        "print(final_text[-1000:])"
      ],
      "metadata": {
        "colab": {
          "base_uri": "https://localhost:8080/"
        },
        "id": "ZLswAbvVYx8y",
        "outputId": "8db28c3c-5ed9-47b1-ca83-207d0526184e"
      },
      "execution_count": 8,
      "outputs": [
        {
          "output_type": "stream",
          "name": "stdout",
          "text": [
            "\n",
            "--- Final ---\n",
            "\n",
            "uevo director—. No es éste su\n",
            "país. A lo que parece, ha trabado relación con la cobra real… y nos ha\n",
            "vengado a su manera. Si logramos salvarla haremos una gran cosa,\n",
            "porque parece terriblemente envenenada. Llevémosla. Acaso un día nos\n",
            "salve a nosotros de toda esta chusma venenosa.\n",
            "Y se fueron, llevando de un palo que cargaban en los hombros, a\n",
            "Anaconda, que, herida y exhausta de fuerzas, iba pensando en Ñacaniná,\n",
            "cuyo destino, con un poco menos de altivez, podía haber sido semejante al\n",
            "suyo.\n",
            "Anaconda no murió. Vivió un año con los hombres, curioseando y\n",
            "observándolo todo, hasta que una noche se fue. Pero la historia de este\n",
            "viaje remontando por largos meses el Paraná hasta más allá del Guayra,\n",
            "más allá todavía del golfo letal donde el Paraná toma el nombre de río\n",
            "Muerto; la vida extraña que llevó Anaconda y el segundo viaje que\n",
            "emprendió por fin con sus hermanos sobre las aguas sucias de una gran\n",
            "inundación —toda esta historia de rebelión y asalto de camalotes,\n",
            "pertenece a otro relato.\n"
          ]
        }
      ]
    },
    {
      "cell_type": "code",
      "source": [
        "length = len(final_text)\n",
        "length"
      ],
      "metadata": {
        "colab": {
          "base_uri": "https://localhost:8080/"
        },
        "id": "n68uxTFLd4DV",
        "outputId": "ad2e17b6-e701-44ed-cfd1-fc814d5b9a3a"
      },
      "execution_count": 9,
      "outputs": [
        {
          "output_type": "execute_result",
          "data": {
            "text/plain": [
              "60066"
            ]
          },
          "metadata": {},
          "execution_count": 9
        }
      ]
    },
    {
      "cell_type": "markdown",
      "source": [
        "### Elegir el tamaño del contexto"
      ],
      "metadata": {
        "id": "2DS_dRWdSSqw"
      }
    },
    {
      "cell_type": "code",
      "source": [
        "# selecciono el tamaño de contexto:\n",
        "max_context_size = 100"
      ],
      "metadata": {
        "id": "kIuxiQGDQ3O-"
      },
      "execution_count": 10,
      "outputs": []
    },
    {
      "cell_type": "code",
      "source": [
        "# Uso las utilidades de procesamiento de textos y secuencias de Keras:\n",
        "from tensorflow.keras.utils import pad_sequences # se utilizará para padding"
      ],
      "metadata": {
        "id": "ohCg3KawSsNw"
      },
      "execution_count": 11,
      "outputs": []
    },
    {
      "cell_type": "code",
      "source": [
        "# en este caso el vocabulario es el conjunto único de caracteres que existe en todo el texto\n",
        "chars_vocab = set(final_text)"
      ],
      "metadata": {
        "id": "Ybd_x8_JUAJa"
      },
      "execution_count": 12,
      "outputs": []
    },
    {
      "cell_type": "code",
      "source": [
        "# la longitud de vocabulario de caracteres es:\n",
        "len(chars_vocab)"
      ],
      "metadata": {
        "colab": {
          "base_uri": "https://localhost:8080/"
        },
        "id": "xgirx-6wT5I8",
        "outputId": "9d455a03-7e0e-4215-db3d-321b08e72fd5"
      },
      "execution_count": 13,
      "outputs": [
        {
          "output_type": "execute_result",
          "data": {
            "text/plain": [
              "71"
            ]
          },
          "metadata": {},
          "execution_count": 13
        }
      ]
    },
    {
      "cell_type": "code",
      "source": [
        "# Construimos los dicionarios que asignan índices a caracteres y viceversa.\n",
        "# El diccionario `char2idx` servirá como tokenizador.\n",
        "char2idx = {k: v for v,k in enumerate(chars_vocab)}\n",
        "idx2char = {v: k for k,v in char2idx.items()}"
      ],
      "metadata": {
        "id": "THHHHQUbWRbm"
      },
      "execution_count": 14,
      "outputs": []
    },
    {
      "cell_type": "markdown",
      "source": [
        "### Tokenizar"
      ],
      "metadata": {
        "id": "N5pHNfjOiit0"
      }
    },
    {
      "cell_type": "code",
      "source": [
        "# tokenizamos el texto completo:\n",
        "tokenized_text = [char2idx[ch] for ch in final_text]"
      ],
      "metadata": {
        "id": "FuyD7Sv8ikVd"
      },
      "execution_count": 15,
      "outputs": []
    },
    {
      "cell_type": "code",
      "source": [
        "tokenized_text[:1000]"
      ],
      "metadata": {
        "colab": {
          "base_uri": "https://localhost:8080/"
        },
        "id": "w92PdlAMi113",
        "outputId": "9c0721d1-1a26-4dc8-e6fe-78ac2a1ee999"
      },
      "execution_count": 16,
      "outputs": [
        {
          "output_type": "execute_result",
          "data": {
            "text/plain": [
              "[27,\n",
              " 55,\n",
              " 57,\n",
              " 23,\n",
              " 45,\n",
              " 35,\n",
              " 57,\n",
              " 42,\n",
              " 45,\n",
              " 1,\n",
              " 16,\n",
              " 4,\n",
              " 39,\n",
              " 45,\n",
              " 1,\n",
              " 4,\n",
              " 45,\n",
              " 35,\n",
              " 57,\n",
              " 45,\n",
              " 23,\n",
              " 47,\n",
              " 11,\n",
              " 21,\n",
              " 4,\n",
              " 45,\n",
              " 7,\n",
              " 45,\n",
              " 21,\n",
              " 57,\n",
              " 11,\n",
              " 64,\n",
              " 57,\n",
              " 45,\n",
              " 61,\n",
              " 23,\n",
              " 45,\n",
              " 11,\n",
              " 57,\n",
              " 35,\n",
              " 47,\n",
              " 55,\n",
              " 45,\n",
              " 42,\n",
              " 47,\n",
              " 54,\n",
              " 47,\n",
              " 11,\n",
              " 57,\n",
              " 23,\n",
              " 22,\n",
              " 4,\n",
              " 28,\n",
              " 45,\n",
              " 27,\n",
              " 35,\n",
              " 45,\n",
              " 22,\n",
              " 16,\n",
              " 4,\n",
              " 46,\n",
              " 17,\n",
              " 47,\n",
              " 45,\n",
              " 11,\n",
              " 57,\n",
              " 55,\n",
              " 33,\n",
              " 57,\n",
              " 1,\n",
              " 47,\n",
              " 50,\n",
              " 17,\n",
              " 4,\n",
              " 42,\n",
              " 57,\n",
              " 69,\n",
              " 57,\n",
              " 45,\n",
              " 42,\n",
              " 47,\n",
              " 69,\n",
              " 55,\n",
              " 4,\n",
              " 45,\n",
              " 35,\n",
              " 57,\n",
              " 45,\n",
              " 42,\n",
              " 4,\n",
              " 35,\n",
              " 59,\n",
              " 57,\n",
              " 19,\n",
              " 45,\n",
              " 42,\n",
              " 16,\n",
              " 23,\n",
              " 45,\n",
              " 61,\n",
              " 23,\n",
              " 45,\n",
              " 42,\n",
              " 47,\n",
              " 17,\n",
              " 35,\n",
              " 47,\n",
              " 45,\n",
              " 1,\n",
              " 4,\n",
              " 45,\n",
              " 59,\n",
              " 16,\n",
              " 4,\n",
              " 23,\n",
              " 22,\n",
              " 47,\n",
              " 28,\n",
              " 45,\n",
              " 27,\n",
              " 35,\n",
              " 45,\n",
              " 11,\n",
              " 16,\n",
              " 4,\n",
              " 35,\n",
              " 47,\n",
              " 45,\n",
              " 1,\n",
              " 4,\n",
              " 45,\n",
              " 11,\n",
              " 57,\n",
              " 55,\n",
              " 69,\n",
              " 34,\n",
              " 23,\n",
              " 45,\n",
              " 42,\n",
              " 4,\n",
              " 50,\n",
              " 4,\n",
              " 23,\n",
              " 22,\n",
              " 55,\n",
              " 4,\n",
              " 57,\n",
              " 69,\n",
              " 55,\n",
              " 64,\n",
              " 57,\n",
              " 45,\n",
              " 1,\n",
              " 4,\n",
              " 45,\n",
              " 59,\n",
              " 4,\n",
              " 39,\n",
              " 45,\n",
              " 4,\n",
              " 23,\n",
              " 45,\n",
              " 11,\n",
              " 61,\n",
              " 57,\n",
              " 23,\n",
              " 1,\n",
              " 47,\n",
              " 45,\n",
              " 4,\n",
              " 23,\n",
              " 45,\n",
              " 42,\n",
              " 47,\n",
              " 55,\n",
              " 1,\n",
              " 47,\n",
              " 42,\n",
              " 45,\n",
              " 55,\n",
              " 4,\n",
              " 35,\n",
              " 62,\n",
              " 46,\n",
              " 17,\n",
              " 57,\n",
              " 33,\n",
              " 47,\n",
              " 42,\n",
              " 45,\n",
              " 1,\n",
              " 4,\n",
              " 45,\n",
              " 61,\n",
              " 23,\n",
              " 45,\n",
              " 4,\n",
              " 3,\n",
              " 22,\n",
              " 55,\n",
              " 4,\n",
              " 46,\n",
              " 47,\n",
              " 45,\n",
              " 57,\n",
              " 45,\n",
              " 47,\n",
              " 22,\n",
              " 55,\n",
              " 47,\n",
              " 50,\n",
              " 1,\n",
              " 4,\n",
              " 35,\n",
              " 45,\n",
              " 21,\n",
              " 47,\n",
              " 55,\n",
              " 16,\n",
              " 39,\n",
              " 47,\n",
              " 23,\n",
              " 22,\n",
              " 4,\n",
              " 12,\n",
              " 45,\n",
              " 17,\n",
              " 4,\n",
              " 55,\n",
              " 47,\n",
              " 45,\n",
              " 4,\n",
              " 35,\n",
              " 45,\n",
              " 11,\n",
              " 21,\n",
              " 61,\n",
              " 69,\n",
              " 57,\n",
              " 42,\n",
              " 11,\n",
              " 47,\n",
              " 45,\n",
              " 42,\n",
              " 16,\n",
              " 35,\n",
              " 69,\n",
              " 57,\n",
              " 23,\n",
              " 22,\n",
              " 4,\n",
              " 45,\n",
              " 1,\n",
              " 4,\n",
              " 35,\n",
              " 45,\n",
              " 42,\n",
              " 61,\n",
              " 55,\n",
              " 45,\n",
              " 4,\n",
              " 42,\n",
              " 22,\n",
              " 57,\n",
              " 69,\n",
              " 57,\n",
              " 45,\n",
              " 57,\n",
              " 43,\n",
              " 23,\n",
              " 45,\n",
              " 35,\n",
              " 4,\n",
              " 48,\n",
              " 47,\n",
              " 42,\n",
              " 28,\n",
              " 50,\n",
              " 5,\n",
              " 47,\n",
              " 55,\n",
              " 45,\n",
              " 61,\n",
              " 23,\n",
              " 45,\n",
              " 42,\n",
              " 4,\n",
              " 23,\n",
              " 1,\n",
              " 4,\n",
              " 55,\n",
              " 47,\n",
              " 45,\n",
              " 1,\n",
              " 4,\n",
              " 45,\n",
              " 59,\n",
              " 57,\n",
              " 11,\n",
              " 57,\n",
              " 42,\n",
              " 45,\n",
              " 4,\n",
              " 23,\n",
              " 45,\n",
              " 17,\n",
              " 35,\n",
              " 4,\n",
              " 23,\n",
              " 47,\n",
              " 45,\n",
              " 4,\n",
              " 42,\n",
              " 17,\n",
              " 57,\n",
              " 55,\n",
              " 22,\n",
              " 16,\n",
              " 35,\n",
              " 35,\n",
              " 47,\n",
              " 45,\n",
              " 69,\n",
              " 35,\n",
              " 57,\n",
              " 23,\n",
              " 11,\n",
              " 47,\n",
              " 19,\n",
              " 45,\n",
              " 57,\n",
              " 59,\n",
              " 57,\n",
              " 23,\n",
              " 39,\n",
              " 57,\n",
              " 69,\n",
              " 57,\n",
              " 45,\n",
              " 8,\n",
              " 57,\n",
              " 23,\n",
              " 11,\n",
              " 4,\n",
              " 47,\n",
              " 35,\n",
              " 57,\n",
              " 1,\n",
              " 57,\n",
              " 19,\n",
              " 50,\n",
              " 11,\n",
              " 47,\n",
              " 23,\n",
              " 45,\n",
              " 35,\n",
              " 57,\n",
              " 45,\n",
              " 35,\n",
              " 4,\n",
              " 23,\n",
              " 22,\n",
              " 16,\n",
              " 22,\n",
              " 61,\n",
              " 1,\n",
              " 45,\n",
              " 33,\n",
              " 4,\n",
              " 23,\n",
              " 37,\n",
              " 55,\n",
              " 16,\n",
              " 11,\n",
              " 57,\n",
              " 45,\n",
              " 1,\n",
              " 4,\n",
              " 45,\n",
              " 35,\n",
              " 57,\n",
              " 42,\n",
              " 45,\n",
              " 59,\n",
              " 64,\n",
              " 69,\n",
              " 47,\n",
              " 55,\n",
              " 57,\n",
              " 42,\n",
              " 28,\n",
              " 45,\n",
              " 27,\n",
              " 55,\n",
              " 57,\n",
              " 45,\n",
              " 61,\n",
              " 23,\n",
              " 57,\n",
              " 45,\n",
              " 21,\n",
              " 4,\n",
              " 55,\n",
              " 46,\n",
              " 47,\n",
              " 42,\n",
              " 64,\n",
              " 42,\n",
              " 16,\n",
              " 46,\n",
              " 57,\n",
              " 45,\n",
              " 7,\n",
              " 57,\n",
              " 55,\n",
              " 57,\n",
              " 55,\n",
              " 62,\n",
              " 19,\n",
              " 45,\n",
              " 1,\n",
              " 4,\n",
              " 45,\n",
              " 61,\n",
              " 23,\n",
              " 50,\n",
              " 46,\n",
              " 4,\n",
              " 22,\n",
              " 55,\n",
              " 47,\n",
              " 45,\n",
              " 11,\n",
              " 16,\n",
              " 23,\n",
              " 11,\n",
              " 61,\n",
              " 4,\n",
              " 23,\n",
              " 22,\n",
              " 57,\n",
              " 19,\n",
              " 45,\n",
              " 11,\n",
              " 47,\n",
              " 23,\n",
              " 45,\n",
              " 35,\n",
              " 47,\n",
              " 42,\n",
              " 45,\n",
              " 23,\n",
              " 4,\n",
              " 33,\n",
              " 55,\n",
              " 47,\n",
              " 42,\n",
              " 45,\n",
              " 62,\n",
              " 23,\n",
              " 33,\n",
              " 61,\n",
              " 35,\n",
              " 47,\n",
              " 42,\n",
              " 45,\n",
              " 1,\n",
              " 4,\n",
              " 45,\n",
              " 42,\n",
              " 61,\n",
              " 45,\n",
              " 54,\n",
              " 35,\n",
              " 57,\n",
              " 23,\n",
              " 11,\n",
              " 47,\n",
              " 45,\n",
              " 69,\n",
              " 16,\n",
              " 4,\n",
              " 23,\n",
              " 45,\n",
              " 11,\n",
              " 47,\n",
              " 55,\n",
              " 22,\n",
              " 57,\n",
              " 1,\n",
              " 47,\n",
              " 42,\n",
              " 45,\n",
              " 4,\n",
              " 23,\n",
              " 50,\n",
              " 42,\n",
              " 16,\n",
              " 4,\n",
              " 55,\n",
              " 55,\n",
              " 57,\n",
              " 19,\n",
              " 45,\n",
              " 4,\n",
              " 42,\n",
              " 11,\n",
              " 57,\n",
              " 46,\n",
              " 57,\n",
              " 45,\n",
              " 17,\n",
              " 47,\n",
              " 55,\n",
              " 45,\n",
              " 4,\n",
              " 42,\n",
              " 11,\n",
              " 57,\n",
              " 46,\n",
              " 57,\n",
              " 28,\n",
              " 45,\n",
              " 40,\n",
              " 59,\n",
              " 57,\n",
              " 23,\n",
              " 39,\n",
              " 57,\n",
              " 69,\n",
              " 57,\n",
              " 45,\n",
              " 22,\n",
              " 57,\n",
              " 23,\n",
              " 22,\n",
              " 4,\n",
              " 57,\n",
              " 23,\n",
              " 1,\n",
              " 47,\n",
              " 45,\n",
              " 35,\n",
              " 57,\n",
              " 45,\n",
              " 42,\n",
              " 4,\n",
              " 33,\n",
              " 61,\n",
              " 55,\n",
              " 16,\n",
              " 1,\n",
              " 57,\n",
              " 1,\n",
              " 45,\n",
              " 1,\n",
              " 4,\n",
              " 35,\n",
              " 45,\n",
              " 22,\n",
              " 4,\n",
              " 55,\n",
              " 55,\n",
              " 4,\n",
              " 23,\n",
              " 47,\n",
              " 50,\n",
              " 11,\n",
              " 47,\n",
              " 23,\n",
              " 45,\n",
              " 35,\n",
              " 57,\n",
              " 45,\n",
              " 35,\n",
              " 4,\n",
              " 23,\n",
              " 33,\n",
              " 61,\n",
              " 57,\n",
              " 19,\n",
              " 45,\n",
              " 10,\n",
              " 61,\n",
              " 4,\n",
              " 45,\n",
              " 4,\n",
              " 23,\n",
              " 45,\n",
              " 35,\n",
              " 47,\n",
              " 42,\n",
              " 45,\n",
              " 47,\n",
              " 54,\n",
              " 16,\n",
              " 1,\n",
              " 16,\n",
              " 47,\n",
              " 42,\n",
              " 45,\n",
              " 55,\n",
              " 4,\n",
              " 4,\n",
              " 46,\n",
              " 17,\n",
              " 35,\n",
              " 57,\n",
              " 39,\n",
              " 57,\n",
              " 45,\n",
              " 17,\n",
              " 4,\n",
              " 55,\n",
              " 54,\n",
              " 4,\n",
              " 11,\n",
              " 22,\n",
              " 57,\n",
              " 46,\n",
              " 4,\n",
              " 23,\n",
              " 22,\n",
              " 4,\n",
              " 45,\n",
              " 57,\n",
              " 45,\n",
              " 35,\n",
              " 47,\n",
              " 42,\n",
              " 45,\n",
              " 1,\n",
              " 4,\n",
              " 1,\n",
              " 47,\n",
              " 42,\n",
              " 28,\n",
              " 50,\n",
              " 20,\n",
              " 69,\n",
              " 57,\n",
              " 45,\n",
              " 1,\n",
              " 4,\n",
              " 45,\n",
              " 11,\n",
              " 57,\n",
              " 39,\n",
              " 57,\n",
              " 28,\n",
              " 45,\n",
              " 40,\n",
              " 35,\n",
              " 45,\n",
              " 35,\n",
              " 35,\n",
              " 4,\n",
              " 33,\n",
              " 57,\n",
              " 55,\n",
              " 45,\n",
              " 57,\n",
              " 45,\n",
              " 61,\n",
              " 23,\n",
              " 45,\n",
              " 11,\n",
              " 55,\n",
              " 61,\n",
              " 11,\n",
              " 4,\n",
              " 45,\n",
              " 1,\n",
              " 4,\n",
              " 45,\n",
              " 42,\n",
              " 4,\n",
              " 23,\n",
              " 1,\n",
              " 4,\n",
              " 55,\n",
              " 47,\n",
              " 42,\n",
              " 45,\n",
              " 42,\n",
              " 4,\n",
              " 45,\n",
              " 1,\n",
              " 4,\n",
              " 22,\n",
              " 61,\n",
              " 59,\n",
              " 47,\n",
              " 19,\n",
              " 45,\n",
              " 42,\n",
              " 4,\n",
              " 45,\n",
              " 57,\n",
              " 55,\n",
              " 55,\n",
              " 47,\n",
              " 35,\n",
              " 35,\n",
              " 34,\n",
              " 50,\n",
              " 17,\n",
              " 55,\n",
              " 47,\n",
              " 35,\n",
              " 16,\n",
              " 48,\n",
              " 57,\n",
              " 46,\n",
              " 4,\n",
              " 23,\n",
              " 22,\n",
              " 4,\n",
              " 45,\n",
              " 42,\n",
              " 47,\n",
              " 69,\n",
              " 55,\n",
              " 4,\n",
              " 45,\n",
              " 42,\n",
              " 64,\n",
              " 45,\n",
              " 46,\n",
              " 16,\n",
              " 42,\n",
              " 46,\n",
              " 57,\n",
              " 19,\n",
              " 45,\n",
              " 55,\n",
              " 4,\n",
              " 46,\n",
              " 47,\n",
              " 59,\n",
              " 16,\n",
              " 47,\n",
              " 42,\n",
              " 4,\n",
              " 45,\n",
              " 57,\n",
              " 43,\n",
              " 23,\n",
              " 45,\n",
              " 61,\n",
              " 23,\n",
              " 45,\n",
              " 46,\n",
              " 47,\n",
              " 46,\n",
              " 4,\n",
              " 23,\n",
              " 22,\n",
              " 47,\n",
              " 45,\n",
              " 57,\n",
              " 11,\n",
              " 47,\n",
              " 46,\n",
              " 47,\n",
              " 1,\n",
              " 62,\n",
              " 23,\n",
              " 1,\n",
              " 47,\n",
              " 42,\n",
              " 4,\n",
              " 45,\n",
              " 7,\n",
              " 50,\n",
              " 1,\n",
              " 4,\n",
              " 42,\n",
              " 17,\n",
              " 61,\n",
              " 37,\n",
              " 42,\n",
              " 45,\n",
              " 1,\n",
              " 4,\n",
              " 45,\n",
              " 69,\n",
              " 57,\n",
              " 48,\n",
              " 57,\n",
              " 55,\n",
              " 45,\n",
              " 35,\n",
              " 57,\n",
              " 45,\n",
              " 11,\n",
              " 57,\n",
              " 69,\n",
              " 4,\n",
              " 39,\n",
              " 57,\n",
              " 45,\n",
              " 57,\n",
              " 35,\n",
              " 45,\n",
              " 23,\n",
              " 16,\n",
              " 59,\n",
              " 4,\n",
              " 35,\n",
              " 45,\n",
              " 1,\n",
              " 4,\n",
              " 45,\n",
              " 42,\n",
              " 61,\n",
              " 42,\n",
              " 45,\n",
              " 57,\n",
              " 23,\n",
              " 16,\n",
              " 35,\n",
              " 35,\n",
              " 47,\n",
              " 42,\n",
              " 19,\n",
              " 45,\n",
              " 57,\n",
              " 42,\n",
              " 4,\n",
              " 23,\n",
              " 22,\n",
              " 34,\n",
              " 45,\n",
              " 35,\n",
              " 57,\n",
              " 45,\n",
              " 46,\n",
              " 57,\n",
              " 23,\n",
              " 1,\n",
              " 64,\n",
              " 69,\n",
              " 61,\n",
              " 35,\n",
              " 57,\n",
              " 50,\n",
              " 16,\n",
              " 23,\n",
              " 54,\n",
              " 4,\n",
              " 55,\n",
              " 16,\n",
              " 47,\n",
              " 55,\n",
              " 45,\n",
              " 7,\n",
              " 45,\n",
              " 4,\n",
              " 42,\n",
              " 17,\n",
              " 4,\n",
              " 55,\n",
              " 34,\n",
              " 45,\n",
              " 16,\n",
              " 23,\n",
              " 46,\n",
              " 34,\n",
              " 59,\n",
              " 16,\n",
              " 35,\n",
              " 28,\n",
              " 50,\n",
              " 9,\n",
              " 16,\n",
              " 23,\n",
              " 61,\n",
              " 22,\n",
              " 47,\n",
              " 45,\n",
              " 22,\n",
              " 55,\n",
              " 57,\n",
              " 42,\n",
              " 45,\n",
              " 46,\n",
              " 16,\n",
              " 23,\n",
              " 61,\n",
              " 22,\n",
              " 47,\n",
              " 45,\n",
              " 4,\n",
              " 42,\n",
              " 17,\n",
              " 4,\n",
              " 55,\n",
              " 34,\n",
              " 45,\n",
              " 11,\n",
              " 16,\n",
              " 23,\n",
              " 11,\n",
              " 47,\n",
              " 45,\n",
              " 21,\n",
              " 47,\n",
              " 55,\n",
              " 57,\n",
              " 42,\n",
              " 28,\n",
              " 45,\n",
              " 40,\n",
              " 35,\n",
              " 45,\n",
              " 11,\n",
              " 57,\n",
              " 69,\n",
              " 47,\n",
              " 45,\n",
              " 1,\n",
              " 4,\n",
              " 45,\n",
              " 4,\n",
              " 42,\n",
              " 22,\n",
              " 4,\n",
              " 45,\n",
              " 22,\n",
              " 16,\n",
              " 4,\n",
              " 46,\n",
              " 17,\n",
              " 47,\n",
              " 45,\n",
              " 11,\n",
              " 47,\n",
              " 23,\n",
              " 22,\n",
              " 16,\n",
              " 23,\n",
              " 61,\n",
              " 57,\n",
              " 69,\n",
              " 57,\n",
              " 50,\n",
              " 4,\n",
              " 23,\n",
              " 45,\n",
              " 16,\n",
              " 33,\n",
              " 61,\n",
              " 57,\n",
              " 35,\n",
              " 45,\n",
              " 16,\n",
              " 23,\n",
              " 46,\n",
              " 47,\n",
              " 59,\n",
              " 16,\n",
              " 35,\n",
              " 16,\n",
              " 1,\n",
              " 57,\n",
              " 1,\n",
              " 28,\n",
              " 45,\n",
              " 44,\n",
              " 9,\n",
              " 57,\n",
              " 35,\n",
              " 57,\n",
              " 45,\n",
              " 23,\n",
              " 47,\n",
              " 11,\n",
              " 21,\n",
              " 4,\n",
              " 65,\n",
              " 45,\n",
              " 38,\n",
              " 47,\n",
              " 46,\n",
              " 4,\n",
              " 23,\n",
              " 39,\n",
              " 57,\n",
              " 69,\n",
              " 57,\n",
              " 45,\n",
              " 57,\n",
              " 45,\n",
              " 55,\n",
              " 47,\n",
              " 46,\n",
              " 17,\n",
              " 4,\n",
              " 55]"
            ]
          },
          "metadata": {},
          "execution_count": 16
        }
      ]
    },
    {
      "cell_type": "markdown",
      "source": [
        "### Organizando y estructurando el dataset"
      ],
      "metadata": {
        "id": "X5pL89nVji-9"
      }
    },
    {
      "cell_type": "code",
      "source": [
        "# separaremos el dataset entre entrenamiento y validación.\n",
        "# `p_val` será la proporción del corpus que se reservará para validación\n",
        "# `num_val` es la cantidad de secuencias de tamaño `max_context_size` que se usará en validación\n",
        "p_val = 0.1\n",
        "num_val = int(np.ceil(len(tokenized_text)*p_val/max_context_size))"
      ],
      "metadata": {
        "id": "zY8Dopmkjkg5"
      },
      "execution_count": 17,
      "outputs": []
    },
    {
      "cell_type": "code",
      "source": [
        "# separamos la porción de texto utilizada en entrenamiento de la de validación.\n",
        "train_text = tokenized_text[:-num_val*max_context_size]\n",
        "val_text = tokenized_text[-num_val*max_context_size:]"
      ],
      "metadata": {
        "id": "NypZibLWjnQh"
      },
      "execution_count": 18,
      "outputs": []
    },
    {
      "cell_type": "code",
      "source": [
        "tokenized_sentences_val = [val_text[init*max_context_size:init*(max_context_size+1)] for init in range(num_val)]"
      ],
      "metadata": {
        "id": "5WaAMYloqCSd"
      },
      "execution_count": 19,
      "outputs": []
    },
    {
      "cell_type": "code",
      "source": [
        "tokenized_sentences_train = [train_text[init:init+max_context_size] for init in range(len(train_text)-max_context_size+1)]"
      ],
      "metadata": {
        "id": "f6U_jB5ttyBe"
      },
      "execution_count": 20,
      "outputs": []
    },
    {
      "cell_type": "code",
      "source": [
        "X = np.array(tokenized_sentences_train[:-1])\n",
        "y = np.array(tokenized_sentences_train[1:])"
      ],
      "metadata": {
        "id": "0Gh2Tkvkt1c4"
      },
      "execution_count": 21,
      "outputs": []
    },
    {
      "cell_type": "code",
      "source": [
        "X.shape"
      ],
      "metadata": {
        "colab": {
          "base_uri": "https://localhost:8080/"
        },
        "id": "iwNueOufuar3",
        "outputId": "0d388d8c-5f44-414b-a2d6-8e26d9fbe920"
      },
      "execution_count": 22,
      "outputs": [
        {
          "output_type": "execute_result",
          "data": {
            "text/plain": [
              "(53866, 100)"
            ]
          },
          "metadata": {},
          "execution_count": 22
        }
      ]
    },
    {
      "cell_type": "code",
      "source": [
        "X[0,:10]"
      ],
      "metadata": {
        "colab": {
          "base_uri": "https://localhost:8080/"
        },
        "id": "TpUQ9AyrueKx",
        "outputId": "8fac4017-3c70-4bb3-a271-9053d77619d0"
      },
      "execution_count": 23,
      "outputs": [
        {
          "output_type": "execute_result",
          "data": {
            "text/plain": [
              "array([27, 55, 57, 23, 45, 35, 57, 42, 45,  1])"
            ]
          },
          "metadata": {},
          "execution_count": 23
        }
      ]
    },
    {
      "cell_type": "code",
      "source": [
        "y[0,:10]"
      ],
      "metadata": {
        "colab": {
          "base_uri": "https://localhost:8080/"
        },
        "id": "0c5neU4dugaR",
        "outputId": "4c7d10aa-72a2-4b4a-c7c9-bfb5954b23ac"
      },
      "execution_count": 24,
      "outputs": [
        {
          "output_type": "execute_result",
          "data": {
            "text/plain": [
              "array([55, 57, 23, 45, 35, 57, 42, 45,  1, 16])"
            ]
          },
          "metadata": {},
          "execution_count": 24
        }
      ]
    },
    {
      "cell_type": "code",
      "source": [
        "vocab_size = len(chars_vocab)"
      ],
      "metadata": {
        "id": "q_-iSb2AukCu"
      },
      "execution_count": 25,
      "outputs": []
    },
    {
      "cell_type": "markdown",
      "source": [
        "## Definir el modelo"
      ],
      "metadata": {
        "id": "xcybiw9KyEOo"
      }
    },
    {
      "cell_type": "code",
      "source": [
        "# Configuramos para usar GPU\n",
        "\n",
        "import tensorflow as tf\n",
        "gpus = tf.config.experimental.list_physical_devices('GPU')\n",
        "if gpus:\n",
        "    try:\n",
        "        for gpu in gpus:\n",
        "            tf.config.experimental.set_memory_growth(gpu, True)\n",
        "    except RuntimeError as e:\n",
        "        print(e)"
      ],
      "metadata": {
        "id": "CTc81mbiyNnO"
      },
      "execution_count": 26,
      "outputs": []
    },
    {
      "cell_type": "code",
      "source": [
        "from keras.layers import Input, TimeDistributed, CategoryEncoding, SimpleRNN, Dense\n",
        "from keras.models import Model, Sequential"
      ],
      "metadata": {
        "id": "IPeSSm8syFn8"
      },
      "execution_count": 27,
      "outputs": []
    },
    {
      "cell_type": "code",
      "source": [
        "model_simpleRNN = Sequential()\n",
        "\n",
        "model_simpleRNN.add(TimeDistributed(CategoryEncoding(num_tokens=vocab_size, output_mode = \"one_hot\"),input_shape=(None,1)))\n",
        "model_simpleRNN.add(SimpleRNN(200, return_sequences=True, dropout=0.1, recurrent_dropout=0.1 ))\n",
        "model_simpleRNN.add(Dense(vocab_size, activation='softmax'))\n",
        "model_simpleRNN.compile(loss='sparse_categorical_crossentropy', optimizer='rmsprop')\n",
        "\n",
        "model_simpleRNN.summary()"
      ],
      "metadata": {
        "colab": {
          "base_uri": "https://localhost:8080/",
          "height": 310
        },
        "id": "ZVbuVDcvyTtv",
        "outputId": "cb2c3053-0270-4e8b-f70d-aeee9e7fc3bf"
      },
      "execution_count": 28,
      "outputs": [
        {
          "output_type": "stream",
          "name": "stderr",
          "text": [
            "/usr/local/lib/python3.11/dist-packages/keras/src/layers/core/wrapper.py:27: UserWarning: Do not pass an `input_shape`/`input_dim` argument to a layer. When using Sequential models, prefer using an `Input(shape)` object as the first layer in the model instead.\n",
            "  super().__init__(**kwargs)\n"
          ]
        },
        {
          "output_type": "display_data",
          "data": {
            "text/plain": [
              "\u001b[1mModel: \"sequential\"\u001b[0m\n"
            ],
            "text/html": [
              "<pre style=\"white-space:pre;overflow-x:auto;line-height:normal;font-family:Menlo,'DejaVu Sans Mono',consolas,'Courier New',monospace\"><span style=\"font-weight: bold\">Model: \"sequential\"</span>\n",
              "</pre>\n"
            ]
          },
          "metadata": {}
        },
        {
          "output_type": "display_data",
          "data": {
            "text/plain": [
              "┏━━━━━━━━━━━━━━━━━━━━━━━━━━━━━━━━━┳━━━━━━━━━━━━━━━━━━━━━━━━┳━━━━━━━━━━━━━━━┓\n",
              "┃\u001b[1m \u001b[0m\u001b[1mLayer (type)                   \u001b[0m\u001b[1m \u001b[0m┃\u001b[1m \u001b[0m\u001b[1mOutput Shape          \u001b[0m\u001b[1m \u001b[0m┃\u001b[1m \u001b[0m\u001b[1m      Param #\u001b[0m\u001b[1m \u001b[0m┃\n",
              "┡━━━━━━━━━━━━━━━━━━━━━━━━━━━━━━━━━╇━━━━━━━━━━━━━━━━━━━━━━━━╇━━━━━━━━━━━━━━━┩\n",
              "│ time_distributed                │ (\u001b[38;5;45mNone\u001b[0m, \u001b[38;5;45mNone\u001b[0m, \u001b[38;5;34m71\u001b[0m)       │             \u001b[38;5;34m0\u001b[0m │\n",
              "│ (\u001b[38;5;33mTimeDistributed\u001b[0m)               │                        │               │\n",
              "├─────────────────────────────────┼────────────────────────┼───────────────┤\n",
              "│ simple_rnn (\u001b[38;5;33mSimpleRNN\u001b[0m)          │ (\u001b[38;5;45mNone\u001b[0m, \u001b[38;5;45mNone\u001b[0m, \u001b[38;5;34m200\u001b[0m)      │        \u001b[38;5;34m54,400\u001b[0m │\n",
              "├─────────────────────────────────┼────────────────────────┼───────────────┤\n",
              "│ dense (\u001b[38;5;33mDense\u001b[0m)                   │ (\u001b[38;5;45mNone\u001b[0m, \u001b[38;5;45mNone\u001b[0m, \u001b[38;5;34m71\u001b[0m)       │        \u001b[38;5;34m14,271\u001b[0m │\n",
              "└─────────────────────────────────┴────────────────────────┴───────────────┘\n"
            ],
            "text/html": [
              "<pre style=\"white-space:pre;overflow-x:auto;line-height:normal;font-family:Menlo,'DejaVu Sans Mono',consolas,'Courier New',monospace\">┏━━━━━━━━━━━━━━━━━━━━━━━━━━━━━━━━━┳━━━━━━━━━━━━━━━━━━━━━━━━┳━━━━━━━━━━━━━━━┓\n",
              "┃<span style=\"font-weight: bold\"> Layer (type)                    </span>┃<span style=\"font-weight: bold\"> Output Shape           </span>┃<span style=\"font-weight: bold\">       Param # </span>┃\n",
              "┡━━━━━━━━━━━━━━━━━━━━━━━━━━━━━━━━━╇━━━━━━━━━━━━━━━━━━━━━━━━╇━━━━━━━━━━━━━━━┩\n",
              "│ time_distributed                │ (<span style=\"color: #00d7ff; text-decoration-color: #00d7ff\">None</span>, <span style=\"color: #00d7ff; text-decoration-color: #00d7ff\">None</span>, <span style=\"color: #00af00; text-decoration-color: #00af00\">71</span>)       │             <span style=\"color: #00af00; text-decoration-color: #00af00\">0</span> │\n",
              "│ (<span style=\"color: #0087ff; text-decoration-color: #0087ff\">TimeDistributed</span>)               │                        │               │\n",
              "├─────────────────────────────────┼────────────────────────┼───────────────┤\n",
              "│ simple_rnn (<span style=\"color: #0087ff; text-decoration-color: #0087ff\">SimpleRNN</span>)          │ (<span style=\"color: #00d7ff; text-decoration-color: #00d7ff\">None</span>, <span style=\"color: #00d7ff; text-decoration-color: #00d7ff\">None</span>, <span style=\"color: #00af00; text-decoration-color: #00af00\">200</span>)      │        <span style=\"color: #00af00; text-decoration-color: #00af00\">54,400</span> │\n",
              "├─────────────────────────────────┼────────────────────────┼───────────────┤\n",
              "│ dense (<span style=\"color: #0087ff; text-decoration-color: #0087ff\">Dense</span>)                   │ (<span style=\"color: #00d7ff; text-decoration-color: #00d7ff\">None</span>, <span style=\"color: #00d7ff; text-decoration-color: #00d7ff\">None</span>, <span style=\"color: #00af00; text-decoration-color: #00af00\">71</span>)       │        <span style=\"color: #00af00; text-decoration-color: #00af00\">14,271</span> │\n",
              "└─────────────────────────────────┴────────────────────────┴───────────────┘\n",
              "</pre>\n"
            ]
          },
          "metadata": {}
        },
        {
          "output_type": "display_data",
          "data": {
            "text/plain": [
              "\u001b[1m Total params: \u001b[0m\u001b[38;5;34m68,671\u001b[0m (268.25 KB)\n"
            ],
            "text/html": [
              "<pre style=\"white-space:pre;overflow-x:auto;line-height:normal;font-family:Menlo,'DejaVu Sans Mono',consolas,'Courier New',monospace\"><span style=\"font-weight: bold\"> Total params: </span><span style=\"color: #00af00; text-decoration-color: #00af00\">68,671</span> (268.25 KB)\n",
              "</pre>\n"
            ]
          },
          "metadata": {}
        },
        {
          "output_type": "display_data",
          "data": {
            "text/plain": [
              "\u001b[1m Trainable params: \u001b[0m\u001b[38;5;34m68,671\u001b[0m (268.25 KB)\n"
            ],
            "text/html": [
              "<pre style=\"white-space:pre;overflow-x:auto;line-height:normal;font-family:Menlo,'DejaVu Sans Mono',consolas,'Courier New',monospace\"><span style=\"font-weight: bold\"> Trainable params: </span><span style=\"color: #00af00; text-decoration-color: #00af00\">68,671</span> (268.25 KB)\n",
              "</pre>\n"
            ]
          },
          "metadata": {}
        },
        {
          "output_type": "display_data",
          "data": {
            "text/plain": [
              "\u001b[1m Non-trainable params: \u001b[0m\u001b[38;5;34m0\u001b[0m (0.00 B)\n"
            ],
            "text/html": [
              "<pre style=\"white-space:pre;overflow-x:auto;line-height:normal;font-family:Menlo,'DejaVu Sans Mono',consolas,'Courier New',monospace\"><span style=\"font-weight: bold\"> Non-trainable params: </span><span style=\"color: #00af00; text-decoration-color: #00af00\">0</span> (0.00 B)\n",
              "</pre>\n"
            ]
          },
          "metadata": {}
        }
      ]
    },
    {
      "cell_type": "code",
      "source": [
        "# LSTM\n",
        "model_LSTM = Sequential()\n",
        "\n",
        "model_LSTM.add(TimeDistributed(CategoryEncoding(num_tokens=vocab_size, output_mode = \"one_hot\"),input_shape=(None,1)))\n",
        "model_LSTM.add(LSTM(100, return_sequences=True, dropout=0.1, recurrent_dropout=0.1))\n",
        "model_LSTM.add(Dense(vocab_size, activation='softmax'))\n",
        "model_LSTM.compile(loss='sparse_categorical_crossentropy', optimizer='rmsprop')\n",
        "\n",
        "model_LSTM.summary()"
      ],
      "metadata": {
        "colab": {
          "base_uri": "https://localhost:8080/",
          "height": 255
        },
        "id": "oFruAz1GZ2Al",
        "outputId": "4e3dd1e6-3d44-430f-f506-d719e00e5149"
      },
      "execution_count": 29,
      "outputs": [
        {
          "output_type": "display_data",
          "data": {
            "text/plain": [
              "\u001b[1mModel: \"sequential_1\"\u001b[0m\n"
            ],
            "text/html": [
              "<pre style=\"white-space:pre;overflow-x:auto;line-height:normal;font-family:Menlo,'DejaVu Sans Mono',consolas,'Courier New',monospace\"><span style=\"font-weight: bold\">Model: \"sequential_1\"</span>\n",
              "</pre>\n"
            ]
          },
          "metadata": {}
        },
        {
          "output_type": "display_data",
          "data": {
            "text/plain": [
              "┏━━━━━━━━━━━━━━━━━━━━━━━━━━━━━━━━━┳━━━━━━━━━━━━━━━━━━━━━━━━┳━━━━━━━━━━━━━━━┓\n",
              "┃\u001b[1m \u001b[0m\u001b[1mLayer (type)                   \u001b[0m\u001b[1m \u001b[0m┃\u001b[1m \u001b[0m\u001b[1mOutput Shape          \u001b[0m\u001b[1m \u001b[0m┃\u001b[1m \u001b[0m\u001b[1m      Param #\u001b[0m\u001b[1m \u001b[0m┃\n",
              "┡━━━━━━━━━━━━━━━━━━━━━━━━━━━━━━━━━╇━━━━━━━━━━━━━━━━━━━━━━━━╇━━━━━━━━━━━━━━━┩\n",
              "│ time_distributed_1              │ (\u001b[38;5;45mNone\u001b[0m, \u001b[38;5;45mNone\u001b[0m, \u001b[38;5;34m71\u001b[0m)       │             \u001b[38;5;34m0\u001b[0m │\n",
              "│ (\u001b[38;5;33mTimeDistributed\u001b[0m)               │                        │               │\n",
              "├─────────────────────────────────┼────────────────────────┼───────────────┤\n",
              "│ lstm (\u001b[38;5;33mLSTM\u001b[0m)                     │ (\u001b[38;5;45mNone\u001b[0m, \u001b[38;5;45mNone\u001b[0m, \u001b[38;5;34m100\u001b[0m)      │        \u001b[38;5;34m68,800\u001b[0m │\n",
              "├─────────────────────────────────┼────────────────────────┼───────────────┤\n",
              "│ dense_1 (\u001b[38;5;33mDense\u001b[0m)                 │ (\u001b[38;5;45mNone\u001b[0m, \u001b[38;5;45mNone\u001b[0m, \u001b[38;5;34m71\u001b[0m)       │         \u001b[38;5;34m7,171\u001b[0m │\n",
              "└─────────────────────────────────┴────────────────────────┴───────────────┘\n"
            ],
            "text/html": [
              "<pre style=\"white-space:pre;overflow-x:auto;line-height:normal;font-family:Menlo,'DejaVu Sans Mono',consolas,'Courier New',monospace\">┏━━━━━━━━━━━━━━━━━━━━━━━━━━━━━━━━━┳━━━━━━━━━━━━━━━━━━━━━━━━┳━━━━━━━━━━━━━━━┓\n",
              "┃<span style=\"font-weight: bold\"> Layer (type)                    </span>┃<span style=\"font-weight: bold\"> Output Shape           </span>┃<span style=\"font-weight: bold\">       Param # </span>┃\n",
              "┡━━━━━━━━━━━━━━━━━━━━━━━━━━━━━━━━━╇━━━━━━━━━━━━━━━━━━━━━━━━╇━━━━━━━━━━━━━━━┩\n",
              "│ time_distributed_1              │ (<span style=\"color: #00d7ff; text-decoration-color: #00d7ff\">None</span>, <span style=\"color: #00d7ff; text-decoration-color: #00d7ff\">None</span>, <span style=\"color: #00af00; text-decoration-color: #00af00\">71</span>)       │             <span style=\"color: #00af00; text-decoration-color: #00af00\">0</span> │\n",
              "│ (<span style=\"color: #0087ff; text-decoration-color: #0087ff\">TimeDistributed</span>)               │                        │               │\n",
              "├─────────────────────────────────┼────────────────────────┼───────────────┤\n",
              "│ lstm (<span style=\"color: #0087ff; text-decoration-color: #0087ff\">LSTM</span>)                     │ (<span style=\"color: #00d7ff; text-decoration-color: #00d7ff\">None</span>, <span style=\"color: #00d7ff; text-decoration-color: #00d7ff\">None</span>, <span style=\"color: #00af00; text-decoration-color: #00af00\">100</span>)      │        <span style=\"color: #00af00; text-decoration-color: #00af00\">68,800</span> │\n",
              "├─────────────────────────────────┼────────────────────────┼───────────────┤\n",
              "│ dense_1 (<span style=\"color: #0087ff; text-decoration-color: #0087ff\">Dense</span>)                 │ (<span style=\"color: #00d7ff; text-decoration-color: #00d7ff\">None</span>, <span style=\"color: #00d7ff; text-decoration-color: #00d7ff\">None</span>, <span style=\"color: #00af00; text-decoration-color: #00af00\">71</span>)       │         <span style=\"color: #00af00; text-decoration-color: #00af00\">7,171</span> │\n",
              "└─────────────────────────────────┴────────────────────────┴───────────────┘\n",
              "</pre>\n"
            ]
          },
          "metadata": {}
        },
        {
          "output_type": "display_data",
          "data": {
            "text/plain": [
              "\u001b[1m Total params: \u001b[0m\u001b[38;5;34m75,971\u001b[0m (296.76 KB)\n"
            ],
            "text/html": [
              "<pre style=\"white-space:pre;overflow-x:auto;line-height:normal;font-family:Menlo,'DejaVu Sans Mono',consolas,'Courier New',monospace\"><span style=\"font-weight: bold\"> Total params: </span><span style=\"color: #00af00; text-decoration-color: #00af00\">75,971</span> (296.76 KB)\n",
              "</pre>\n"
            ]
          },
          "metadata": {}
        },
        {
          "output_type": "display_data",
          "data": {
            "text/plain": [
              "\u001b[1m Trainable params: \u001b[0m\u001b[38;5;34m75,971\u001b[0m (296.76 KB)\n"
            ],
            "text/html": [
              "<pre style=\"white-space:pre;overflow-x:auto;line-height:normal;font-family:Menlo,'DejaVu Sans Mono',consolas,'Courier New',monospace\"><span style=\"font-weight: bold\"> Trainable params: </span><span style=\"color: #00af00; text-decoration-color: #00af00\">75,971</span> (296.76 KB)\n",
              "</pre>\n"
            ]
          },
          "metadata": {}
        },
        {
          "output_type": "display_data",
          "data": {
            "text/plain": [
              "\u001b[1m Non-trainable params: \u001b[0m\u001b[38;5;34m0\u001b[0m (0.00 B)\n"
            ],
            "text/html": [
              "<pre style=\"white-space:pre;overflow-x:auto;line-height:normal;font-family:Menlo,'DejaVu Sans Mono',consolas,'Courier New',monospace\"><span style=\"font-weight: bold\"> Non-trainable params: </span><span style=\"color: #00af00; text-decoration-color: #00af00\">0</span> (0.00 B)\n",
              "</pre>\n"
            ]
          },
          "metadata": {}
        }
      ]
    },
    {
      "cell_type": "code",
      "source": [
        "# GRU\n",
        "model_GRU = Sequential()\n",
        "\n",
        "model_GRU.add(TimeDistributed(CategoryEncoding(num_tokens=vocab_size, output_mode = \"one_hot\"),input_shape=(None,1)))\n",
        "model_GRU.add(GRU(100, return_sequences=True, dropout=0.1, recurrent_dropout=0.1))\n",
        "model_GRU.add(Dense(vocab_size, activation='softmax'))\n",
        "model_GRU.compile(loss='sparse_categorical_crossentropy', optimizer='rmsprop')\n",
        "\n",
        "model_GRU.summary()"
      ],
      "metadata": {
        "colab": {
          "base_uri": "https://localhost:8080/",
          "height": 255
        },
        "id": "vBixnIFTeGQ4",
        "outputId": "763a6e5e-0e66-42dc-bbe1-1e86ad46e540"
      },
      "execution_count": 30,
      "outputs": [
        {
          "output_type": "display_data",
          "data": {
            "text/plain": [
              "\u001b[1mModel: \"sequential_2\"\u001b[0m\n"
            ],
            "text/html": [
              "<pre style=\"white-space:pre;overflow-x:auto;line-height:normal;font-family:Menlo,'DejaVu Sans Mono',consolas,'Courier New',monospace\"><span style=\"font-weight: bold\">Model: \"sequential_2\"</span>\n",
              "</pre>\n"
            ]
          },
          "metadata": {}
        },
        {
          "output_type": "display_data",
          "data": {
            "text/plain": [
              "┏━━━━━━━━━━━━━━━━━━━━━━━━━━━━━━━━━┳━━━━━━━━━━━━━━━━━━━━━━━━┳━━━━━━━━━━━━━━━┓\n",
              "┃\u001b[1m \u001b[0m\u001b[1mLayer (type)                   \u001b[0m\u001b[1m \u001b[0m┃\u001b[1m \u001b[0m\u001b[1mOutput Shape          \u001b[0m\u001b[1m \u001b[0m┃\u001b[1m \u001b[0m\u001b[1m      Param #\u001b[0m\u001b[1m \u001b[0m┃\n",
              "┡━━━━━━━━━━━━━━━━━━━━━━━━━━━━━━━━━╇━━━━━━━━━━━━━━━━━━━━━━━━╇━━━━━━━━━━━━━━━┩\n",
              "│ time_distributed_2              │ (\u001b[38;5;45mNone\u001b[0m, \u001b[38;5;45mNone\u001b[0m, \u001b[38;5;34m71\u001b[0m)       │             \u001b[38;5;34m0\u001b[0m │\n",
              "│ (\u001b[38;5;33mTimeDistributed\u001b[0m)               │                        │               │\n",
              "├─────────────────────────────────┼────────────────────────┼───────────────┤\n",
              "│ gru (\u001b[38;5;33mGRU\u001b[0m)                       │ (\u001b[38;5;45mNone\u001b[0m, \u001b[38;5;45mNone\u001b[0m, \u001b[38;5;34m100\u001b[0m)      │        \u001b[38;5;34m51,900\u001b[0m │\n",
              "├─────────────────────────────────┼────────────────────────┼───────────────┤\n",
              "│ dense_2 (\u001b[38;5;33mDense\u001b[0m)                 │ (\u001b[38;5;45mNone\u001b[0m, \u001b[38;5;45mNone\u001b[0m, \u001b[38;5;34m71\u001b[0m)       │         \u001b[38;5;34m7,171\u001b[0m │\n",
              "└─────────────────────────────────┴────────────────────────┴───────────────┘\n"
            ],
            "text/html": [
              "<pre style=\"white-space:pre;overflow-x:auto;line-height:normal;font-family:Menlo,'DejaVu Sans Mono',consolas,'Courier New',monospace\">┏━━━━━━━━━━━━━━━━━━━━━━━━━━━━━━━━━┳━━━━━━━━━━━━━━━━━━━━━━━━┳━━━━━━━━━━━━━━━┓\n",
              "┃<span style=\"font-weight: bold\"> Layer (type)                    </span>┃<span style=\"font-weight: bold\"> Output Shape           </span>┃<span style=\"font-weight: bold\">       Param # </span>┃\n",
              "┡━━━━━━━━━━━━━━━━━━━━━━━━━━━━━━━━━╇━━━━━━━━━━━━━━━━━━━━━━━━╇━━━━━━━━━━━━━━━┩\n",
              "│ time_distributed_2              │ (<span style=\"color: #00d7ff; text-decoration-color: #00d7ff\">None</span>, <span style=\"color: #00d7ff; text-decoration-color: #00d7ff\">None</span>, <span style=\"color: #00af00; text-decoration-color: #00af00\">71</span>)       │             <span style=\"color: #00af00; text-decoration-color: #00af00\">0</span> │\n",
              "│ (<span style=\"color: #0087ff; text-decoration-color: #0087ff\">TimeDistributed</span>)               │                        │               │\n",
              "├─────────────────────────────────┼────────────────────────┼───────────────┤\n",
              "│ gru (<span style=\"color: #0087ff; text-decoration-color: #0087ff\">GRU</span>)                       │ (<span style=\"color: #00d7ff; text-decoration-color: #00d7ff\">None</span>, <span style=\"color: #00d7ff; text-decoration-color: #00d7ff\">None</span>, <span style=\"color: #00af00; text-decoration-color: #00af00\">100</span>)      │        <span style=\"color: #00af00; text-decoration-color: #00af00\">51,900</span> │\n",
              "├─────────────────────────────────┼────────────────────────┼───────────────┤\n",
              "│ dense_2 (<span style=\"color: #0087ff; text-decoration-color: #0087ff\">Dense</span>)                 │ (<span style=\"color: #00d7ff; text-decoration-color: #00d7ff\">None</span>, <span style=\"color: #00d7ff; text-decoration-color: #00d7ff\">None</span>, <span style=\"color: #00af00; text-decoration-color: #00af00\">71</span>)       │         <span style=\"color: #00af00; text-decoration-color: #00af00\">7,171</span> │\n",
              "└─────────────────────────────────┴────────────────────────┴───────────────┘\n",
              "</pre>\n"
            ]
          },
          "metadata": {}
        },
        {
          "output_type": "display_data",
          "data": {
            "text/plain": [
              "\u001b[1m Total params: \u001b[0m\u001b[38;5;34m59,071\u001b[0m (230.75 KB)\n"
            ],
            "text/html": [
              "<pre style=\"white-space:pre;overflow-x:auto;line-height:normal;font-family:Menlo,'DejaVu Sans Mono',consolas,'Courier New',monospace\"><span style=\"font-weight: bold\"> Total params: </span><span style=\"color: #00af00; text-decoration-color: #00af00\">59,071</span> (230.75 KB)\n",
              "</pre>\n"
            ]
          },
          "metadata": {}
        },
        {
          "output_type": "display_data",
          "data": {
            "text/plain": [
              "\u001b[1m Trainable params: \u001b[0m\u001b[38;5;34m59,071\u001b[0m (230.75 KB)\n"
            ],
            "text/html": [
              "<pre style=\"white-space:pre;overflow-x:auto;line-height:normal;font-family:Menlo,'DejaVu Sans Mono',consolas,'Courier New',monospace\"><span style=\"font-weight: bold\"> Trainable params: </span><span style=\"color: #00af00; text-decoration-color: #00af00\">59,071</span> (230.75 KB)\n",
              "</pre>\n"
            ]
          },
          "metadata": {}
        },
        {
          "output_type": "display_data",
          "data": {
            "text/plain": [
              "\u001b[1m Non-trainable params: \u001b[0m\u001b[38;5;34m0\u001b[0m (0.00 B)\n"
            ],
            "text/html": [
              "<pre style=\"white-space:pre;overflow-x:auto;line-height:normal;font-family:Menlo,'DejaVu Sans Mono',consolas,'Courier New',monospace\"><span style=\"font-weight: bold\"> Non-trainable params: </span><span style=\"color: #00af00; text-decoration-color: #00af00\">0</span> (0.00 B)\n",
              "</pre>\n"
            ]
          },
          "metadata": {}
        }
      ]
    },
    {
      "cell_type": "code",
      "source": [
        "class PplCallback(keras.callbacks.Callback):\n",
        "\n",
        "    '''\n",
        "    Este callback es una solución ad-hoc para calcular al final de cada epoch de\n",
        "    entrenamiento la métrica de Perplejidad sobre un conjunto de datos de validación.\n",
        "    La perplejidad es una métrica cuantitativa para evaluar la calidad de la generación de secuencias.\n",
        "    Además implementa la finalización del entrenamiento (Early Stopping)\n",
        "    si la perplejidad no mejora después de `patience` epochs.\n",
        "    '''\n",
        "\n",
        "    def __init__(self, val_data, history_ppl, model_name, patience=5):\n",
        "      # El callback lo inicializamos con secuencias de validación sobre las cuales\n",
        "      # mediremos la perplejidad\n",
        "      self.val_data = val_data\n",
        "\n",
        "      self.target = []\n",
        "      self.padded = []\n",
        "\n",
        "      count = 0\n",
        "      self.info = []\n",
        "      self.history_ppl = history_ppl\n",
        "      self.min_score = np.inf\n",
        "      self.patience_counter = 0\n",
        "      self.patience = patience\n",
        "      self.model_name = model_name\n",
        "\n",
        "      # nos movemos en todas las secuencias de los datos de validación\n",
        "      for seq in self.val_data:\n",
        "\n",
        "        len_seq = len(seq)\n",
        "        # armamos todas las subsecuencias\n",
        "        subseq = [seq[:i] for i in range(1,len_seq)]\n",
        "        self.target.extend([seq[i] for i in range(1,len_seq)])\n",
        "\n",
        "        if len(subseq)!=0:\n",
        "\n",
        "          self.padded.append(pad_sequences(subseq, maxlen=max_context_size, padding='pre'))\n",
        "\n",
        "          self.info.append((count,count+len_seq))\n",
        "          count += len_seq\n",
        "\n",
        "      self.padded = np.vstack(self.padded)\n",
        "\n",
        "\n",
        "    def on_epoch_end(self, epoch, logs=None):\n",
        "\n",
        "        # en `scores` iremos guardando la perplejidad de cada secuencia\n",
        "        scores = []\n",
        "\n",
        "        predictions = self.model.predict(self.padded,verbose=0)\n",
        "\n",
        "        # para cada secuencia de validación\n",
        "        for start,end in self.info:\n",
        "\n",
        "          # en `probs` iremos guardando las probabilidades de los términos target\n",
        "          probs = [predictions[idx_seq,-1,idx_vocab] for idx_seq, idx_vocab in zip(range(start,end),self.target[start:end])]\n",
        "\n",
        "          # calculamos la perplejidad por medio de logaritmos\n",
        "          scores.append(np.exp(-np.sum(np.log(probs))/(end-start)))\n",
        "\n",
        "        # promediamos todos los scores e imprimimos el valor promedio\n",
        "        current_score = np.mean(scores)\n",
        "        self.history_ppl.append(current_score)\n",
        "        print(f'\\n mean perplexity: {current_score} \\n')\n",
        "\n",
        "        # chequeamos si tenemos que detener el entrenamiento\n",
        "        if current_score < self.min_score:\n",
        "          self.min_score = current_score\n",
        "          self.model.save(f'{self.model_name}.keras')\n",
        "          print(\"Saved new model!\")\n",
        "          self.patience_counter = 0\n",
        "        else:\n",
        "          self.patience_counter += 1\n",
        "          if self.patience_counter == self.patience:\n",
        "            print(\"Stopping training...\")\n",
        "            self.model.stop_training = True"
      ],
      "metadata": {
        "id": "yxxBDkS-pbE7"
      },
      "execution_count": 31,
      "outputs": []
    },
    {
      "cell_type": "markdown",
      "source": [
        "### Entrenamiento"
      ],
      "metadata": {
        "id": "u-KiMeRBxPw1"
      }
    },
    {
      "cell_type": "code",
      "source": [
        "epochs = 20"
      ],
      "metadata": {
        "id": "ZUmN6Uj3ygIi"
      },
      "execution_count": 32,
      "outputs": []
    },
    {
      "cell_type": "code",
      "source": [
        "# fiteamos, nótese el agregado del callback con su inicialización. El batch_size lo podemos seleccionar a mano\n",
        "# en general, lo mejor es escoger el batch más grande posible que minimice el tiempo de cada época.\n",
        "# En la variable `history_ppl` se guardarán los valores de perplejidad para cada época.\n",
        "history_ppl_simpleRNN = []\n",
        "hist_simpleRNN = model_simpleRNN.fit(X, y, epochs=epochs, callbacks=[PplCallback(tokenized_sentences_val, history_ppl_simpleRNN, model_name='model_simpleRNN')], batch_size=256)"
      ],
      "metadata": {
        "colab": {
          "base_uri": "https://localhost:8080/"
        },
        "id": "Qyfp9KZvxU0t",
        "outputId": "6bb4c4f4-9fee-43e5-a4e4-1fbba76e0dba"
      },
      "execution_count": 33,
      "outputs": [
        {
          "output_type": "stream",
          "name": "stdout",
          "text": [
            "Epoch 1/20\n",
            "\u001b[1m211/211\u001b[0m \u001b[32m━━━━━━━━━━━━━━━━━━━━\u001b[0m\u001b[37m\u001b[0m \u001b[1m0s\u001b[0m 389ms/step - loss: 3.0372\n",
            " mean perplexity: 11.357827186584473 \n",
            "\n",
            "Saved new model!\n",
            "\u001b[1m211/211\u001b[0m \u001b[32m━━━━━━━━━━━━━━━━━━━━\u001b[0m\u001b[37m\u001b[0m \u001b[1m104s\u001b[0m 414ms/step - loss: 3.0358\n",
            "Epoch 2/20\n",
            "\u001b[1m211/211\u001b[0m \u001b[32m━━━━━━━━━━━━━━━━━━━━\u001b[0m\u001b[37m\u001b[0m \u001b[1m0s\u001b[0m 380ms/step - loss: 2.3014\n",
            " mean perplexity: 9.559212684631348 \n",
            "\n",
            "Saved new model!\n",
            "\u001b[1m211/211\u001b[0m \u001b[32m━━━━━━━━━━━━━━━━━━━━\u001b[0m\u001b[37m\u001b[0m \u001b[1m137s\u001b[0m 393ms/step - loss: 2.3012\n",
            "Epoch 3/20\n",
            "\u001b[1m211/211\u001b[0m \u001b[32m━━━━━━━━━━━━━━━━━━━━\u001b[0m\u001b[37m\u001b[0m \u001b[1m0s\u001b[0m 370ms/step - loss: 2.1706\n",
            " mean perplexity: 8.611793518066406 \n",
            "\n",
            "Saved new model!\n",
            "\u001b[1m211/211\u001b[0m \u001b[32m━━━━━━━━━━━━━━━━━━━━\u001b[0m\u001b[37m\u001b[0m \u001b[1m80s\u001b[0m 380ms/step - loss: 2.1705\n",
            "Epoch 4/20\n",
            "\u001b[1m211/211\u001b[0m \u001b[32m━━━━━━━━━━━━━━━━━━━━\u001b[0m\u001b[37m\u001b[0m \u001b[1m0s\u001b[0m 382ms/step - loss: 2.0922\n",
            " mean perplexity: 8.26205825805664 \n",
            "\n",
            "Saved new model!\n",
            "\u001b[1m211/211\u001b[0m \u001b[32m━━━━━━━━━━━━━━━━━━━━\u001b[0m\u001b[37m\u001b[0m \u001b[1m84s\u001b[0m 389ms/step - loss: 2.0921\n",
            "Epoch 5/20\n",
            "\u001b[1m211/211\u001b[0m \u001b[32m━━━━━━━━━━━━━━━━━━━━\u001b[0m\u001b[37m\u001b[0m \u001b[1m0s\u001b[0m 378ms/step - loss: 2.0258\n",
            " mean perplexity: 8.180904388427734 \n",
            "\n",
            "Saved new model!\n",
            "\u001b[1m211/211\u001b[0m \u001b[32m━━━━━━━━━━━━━━━━━━━━\u001b[0m\u001b[37m\u001b[0m \u001b[1m141s\u001b[0m 385ms/step - loss: 2.0257\n",
            "Epoch 6/20\n",
            "\u001b[1m211/211\u001b[0m \u001b[32m━━━━━━━━━━━━━━━━━━━━\u001b[0m\u001b[37m\u001b[0m \u001b[1m0s\u001b[0m 367ms/step - loss: 1.9657\n",
            " mean perplexity: 7.959314823150635 \n",
            "\n",
            "Saved new model!\n",
            "\u001b[1m211/211\u001b[0m \u001b[32m━━━━━━━━━━━━━━━━━━━━\u001b[0m\u001b[37m\u001b[0m \u001b[1m80s\u001b[0m 373ms/step - loss: 1.9657\n",
            "Epoch 7/20\n",
            "\u001b[1m211/211\u001b[0m \u001b[32m━━━━━━━━━━━━━━━━━━━━\u001b[0m\u001b[37m\u001b[0m \u001b[1m0s\u001b[0m 367ms/step - loss: 1.9183\n",
            " mean perplexity: 7.479236602783203 \n",
            "\n",
            "Saved new model!\n",
            "\u001b[1m211/211\u001b[0m \u001b[32m━━━━━━━━━━━━━━━━━━━━\u001b[0m\u001b[37m\u001b[0m \u001b[1m83s\u001b[0m 379ms/step - loss: 1.9182\n",
            "Epoch 8/20\n",
            "\u001b[1m211/211\u001b[0m \u001b[32m━━━━━━━━━━━━━━━━━━━━\u001b[0m\u001b[37m\u001b[0m \u001b[1m0s\u001b[0m 378ms/step - loss: 1.8747\n",
            " mean perplexity: 7.6988091468811035 \n",
            "\n",
            "\u001b[1m211/211\u001b[0m \u001b[32m━━━━━━━━━━━━━━━━━━━━\u001b[0m\u001b[37m\u001b[0m \u001b[1m83s\u001b[0m 385ms/step - loss: 1.8747\n",
            "Epoch 9/20\n",
            "\u001b[1m211/211\u001b[0m \u001b[32m━━━━━━━━━━━━━━━━━━━━\u001b[0m\u001b[37m\u001b[0m \u001b[1m0s\u001b[0m 363ms/step - loss: 1.8377\n",
            " mean perplexity: 8.35098648071289 \n",
            "\n",
            "\u001b[1m211/211\u001b[0m \u001b[32m━━━━━━━━━━━━━━━━━━━━\u001b[0m\u001b[37m\u001b[0m \u001b[1m80s\u001b[0m 376ms/step - loss: 1.8376\n",
            "Epoch 10/20\n",
            "\u001b[1m211/211\u001b[0m \u001b[32m━━━━━━━━━━━━━━━━━━━━\u001b[0m\u001b[37m\u001b[0m \u001b[1m0s\u001b[0m 360ms/step - loss: 1.8064\n",
            " mean perplexity: 7.366524696350098 \n",
            "\n",
            "Saved new model!\n",
            "\u001b[1m211/211\u001b[0m \u001b[32m━━━━━━━━━━━━━━━━━━━━\u001b[0m\u001b[37m\u001b[0m \u001b[1m80s\u001b[0m 367ms/step - loss: 1.8064\n",
            "Epoch 11/20\n",
            "\u001b[1m211/211\u001b[0m \u001b[32m━━━━━━━━━━━━━━━━━━━━\u001b[0m\u001b[37m\u001b[0m \u001b[1m0s\u001b[0m 392ms/step - loss: 1.7792\n",
            " mean perplexity: 7.45950174331665 \n",
            "\n",
            "\u001b[1m211/211\u001b[0m \u001b[32m━━━━━━━━━━━━━━━━━━━━\u001b[0m\u001b[37m\u001b[0m \u001b[1m89s\u001b[0m 399ms/step - loss: 1.7791\n",
            "Epoch 12/20\n",
            "\u001b[1m211/211\u001b[0m \u001b[32m━━━━━━━━━━━━━━━━━━━━\u001b[0m\u001b[37m\u001b[0m \u001b[1m0s\u001b[0m 380ms/step - loss: 1.7554\n",
            " mean perplexity: 7.414493083953857 \n",
            "\n",
            "\u001b[1m211/211\u001b[0m \u001b[32m━━━━━━━━━━━━━━━━━━━━\u001b[0m\u001b[37m\u001b[0m \u001b[1m83s\u001b[0m 393ms/step - loss: 1.7553\n",
            "Epoch 13/20\n",
            "\u001b[1m211/211\u001b[0m \u001b[32m━━━━━━━━━━━━━━━━━━━━\u001b[0m\u001b[37m\u001b[0m \u001b[1m0s\u001b[0m 375ms/step - loss: 1.7355\n",
            " mean perplexity: 7.696944236755371 \n",
            "\n",
            "\u001b[1m211/211\u001b[0m \u001b[32m━━━━━━━━━━━━━━━━━━━━\u001b[0m\u001b[37m\u001b[0m \u001b[1m140s\u001b[0m 382ms/step - loss: 1.7354\n",
            "Epoch 14/20\n",
            "\u001b[1m211/211\u001b[0m \u001b[32m━━━━━━━━━━━━━━━━━━━━\u001b[0m\u001b[37m\u001b[0m \u001b[1m0s\u001b[0m 383ms/step - loss: 1.7168\n",
            " mean perplexity: 7.823187828063965 \n",
            "\n",
            "\u001b[1m211/211\u001b[0m \u001b[32m━━━━━━━━━━━━━━━━━━━━\u001b[0m\u001b[37m\u001b[0m \u001b[1m83s\u001b[0m 389ms/step - loss: 1.7167\n",
            "Epoch 15/20\n",
            "\u001b[1m211/211\u001b[0m \u001b[32m━━━━━━━━━━━━━━━━━━━━\u001b[0m\u001b[37m\u001b[0m \u001b[1m0s\u001b[0m 368ms/step - loss: 1.6991\n",
            " mean perplexity: 7.485164165496826 \n",
            "\n",
            "Stopping training...\n",
            "\u001b[1m211/211\u001b[0m \u001b[32m━━━━━━━━━━━━━━━━━━━━\u001b[0m\u001b[37m\u001b[0m \u001b[1m139s\u001b[0m 375ms/step - loss: 1.6991\n"
          ]
        }
      ]
    },
    {
      "cell_type": "code",
      "source": [
        "history_ppl_LSTM = []\n",
        "hist_LSTM = model_LSTM.fit(X, y, epochs=epochs, callbacks=[PplCallback(tokenized_sentences_val,history_ppl_LSTM, model_name='model_LSTM')], batch_size=256)"
      ],
      "metadata": {
        "colab": {
          "base_uri": "https://localhost:8080/"
        },
        "id": "xgiWarm8yzH1",
        "outputId": "fdc875e7-ea54-49a4-caaf-660931f6ce19"
      },
      "execution_count": 34,
      "outputs": [
        {
          "output_type": "stream",
          "name": "stdout",
          "text": [
            "Epoch 1/20\n",
            "\u001b[1m211/211\u001b[0m \u001b[32m━━━━━━━━━━━━━━━━━━━━\u001b[0m\u001b[37m\u001b[0m \u001b[1m0s\u001b[0m 744ms/step - loss: 3.3092\n",
            " mean perplexity: 19.7356014251709 \n",
            "\n",
            "Saved new model!\n",
            "\u001b[1m211/211\u001b[0m \u001b[32m━━━━━━━━━━━━━━━━━━━━\u001b[0m\u001b[37m\u001b[0m \u001b[1m173s\u001b[0m 772ms/step - loss: 3.3083\n",
            "Epoch 2/20\n",
            "\u001b[1m211/211\u001b[0m \u001b[32m━━━━━━━━━━━━━━━━━━━━\u001b[0m\u001b[37m\u001b[0m \u001b[1m0s\u001b[0m 728ms/step - loss: 2.8634\n",
            " mean perplexity: 14.793069839477539 \n",
            "\n",
            "Saved new model!\n",
            "\u001b[1m211/211\u001b[0m \u001b[32m━━━━━━━━━━━━━━━━━━━━\u001b[0m\u001b[37m\u001b[0m \u001b[1m156s\u001b[0m 741ms/step - loss: 2.8631\n",
            "Epoch 3/20\n",
            "\u001b[1m211/211\u001b[0m \u001b[32m━━━━━━━━━━━━━━━━━━━━\u001b[0m\u001b[37m\u001b[0m \u001b[1m0s\u001b[0m 729ms/step - loss: 2.6216\n",
            " mean perplexity: 12.563961029052734 \n",
            "\n",
            "Saved new model!\n",
            "\u001b[1m211/211\u001b[0m \u001b[32m━━━━━━━━━━━━━━━━━━━━\u001b[0m\u001b[37m\u001b[0m \u001b[1m203s\u001b[0m 747ms/step - loss: 2.6214\n",
            "Epoch 4/20\n",
            "\u001b[1m211/211\u001b[0m \u001b[32m━━━━━━━━━━━━━━━━━━━━\u001b[0m\u001b[37m\u001b[0m \u001b[1m0s\u001b[0m 747ms/step - loss: 2.4823\n",
            " mean perplexity: 11.306098937988281 \n",
            "\n",
            "Saved new model!\n",
            "\u001b[1m211/211\u001b[0m \u001b[32m━━━━━━━━━━━━━━━━━━━━\u001b[0m\u001b[37m\u001b[0m \u001b[1m205s\u001b[0m 760ms/step - loss: 2.4822\n",
            "Epoch 5/20\n",
            "\u001b[1m211/211\u001b[0m \u001b[32m━━━━━━━━━━━━━━━━━━━━\u001b[0m\u001b[37m\u001b[0m \u001b[1m0s\u001b[0m 728ms/step - loss: 2.3889\n",
            " mean perplexity: 10.57365894317627 \n",
            "\n",
            "Saved new model!\n",
            "\u001b[1m211/211\u001b[0m \u001b[32m━━━━━━━━━━━━━━━━━━━━\u001b[0m\u001b[37m\u001b[0m \u001b[1m156s\u001b[0m 741ms/step - loss: 2.3888\n",
            "Epoch 6/20\n",
            "\u001b[1m211/211\u001b[0m \u001b[32m━━━━━━━━━━━━━━━━━━━━\u001b[0m\u001b[37m\u001b[0m \u001b[1m0s\u001b[0m 708ms/step - loss: 2.3248\n",
            " mean perplexity: 10.191133499145508 \n",
            "\n",
            "Saved new model!\n",
            "\u001b[1m211/211\u001b[0m \u001b[32m━━━━━━━━━━━━━━━━━━━━\u001b[0m\u001b[37m\u001b[0m \u001b[1m197s\u001b[0m 718ms/step - loss: 2.3248\n",
            "Epoch 7/20\n",
            "\u001b[1m211/211\u001b[0m \u001b[32m━━━━━━━━━━━━━━━━━━━━\u001b[0m\u001b[37m\u001b[0m \u001b[1m0s\u001b[0m 717ms/step - loss: 2.2787\n",
            " mean perplexity: 9.76476001739502 \n",
            "\n",
            "Saved new model!\n",
            "\u001b[1m211/211\u001b[0m \u001b[32m━━━━━━━━━━━━━━━━━━━━\u001b[0m\u001b[37m\u001b[0m \u001b[1m205s\u001b[0m 730ms/step - loss: 2.2787\n",
            "Epoch 8/20\n",
            "\u001b[1m211/211\u001b[0m \u001b[32m━━━━━━━━━━━━━━━━━━━━\u001b[0m\u001b[37m\u001b[0m \u001b[1m0s\u001b[0m 734ms/step - loss: 2.2440\n",
            " mean perplexity: 9.501158714294434 \n",
            "\n",
            "Saved new model!\n",
            "\u001b[1m211/211\u001b[0m \u001b[32m━━━━━━━━━━━━━━━━━━━━\u001b[0m\u001b[37m\u001b[0m \u001b[1m204s\u001b[0m 744ms/step - loss: 2.2440\n",
            "Epoch 9/20\n",
            "\u001b[1m211/211\u001b[0m \u001b[32m━━━━━━━━━━━━━━━━━━━━\u001b[0m\u001b[37m\u001b[0m \u001b[1m0s\u001b[0m 746ms/step - loss: 2.2147\n",
            " mean perplexity: 9.54397201538086 \n",
            "\n",
            "\u001b[1m211/211\u001b[0m \u001b[32m━━━━━━━━━━━━━━━━━━━━\u001b[0m\u001b[37m\u001b[0m \u001b[1m206s\u001b[0m 760ms/step - loss: 2.2147\n",
            "Epoch 10/20\n",
            "\u001b[1m211/211\u001b[0m \u001b[32m━━━━━━━━━━━━━━━━━━━━\u001b[0m\u001b[37m\u001b[0m \u001b[1m0s\u001b[0m 747ms/step - loss: 2.1882\n",
            " mean perplexity: 9.247178077697754 \n",
            "\n",
            "Saved new model!\n",
            "\u001b[1m211/211\u001b[0m \u001b[32m━━━━━━━━━━━━━━━━━━━━\u001b[0m\u001b[37m\u001b[0m \u001b[1m201s\u001b[0m 759ms/step - loss: 2.1882\n",
            "Epoch 11/20\n",
            "\u001b[1m211/211\u001b[0m \u001b[32m━━━━━━━━━━━━━━━━━━━━\u001b[0m\u001b[37m\u001b[0m \u001b[1m0s\u001b[0m 741ms/step - loss: 2.1659\n",
            " mean perplexity: 8.999873161315918 \n",
            "\n",
            "Saved new model!\n",
            "\u001b[1m211/211\u001b[0m \u001b[32m━━━━━━━━━━━━━━━━━━━━\u001b[0m\u001b[37m\u001b[0m \u001b[1m158s\u001b[0m 751ms/step - loss: 2.1658\n",
            "Epoch 12/20\n",
            "\u001b[1m211/211\u001b[0m \u001b[32m━━━━━━━━━━━━━━━━━━━━\u001b[0m\u001b[37m\u001b[0m \u001b[1m0s\u001b[0m 734ms/step - loss: 2.1448\n",
            " mean perplexity: 8.909193992614746 \n",
            "\n",
            "Saved new model!\n",
            "\u001b[1m211/211\u001b[0m \u001b[32m━━━━━━━━━━━━━━━━━━━━\u001b[0m\u001b[37m\u001b[0m \u001b[1m202s\u001b[0m 752ms/step - loss: 2.1448\n",
            "Epoch 13/20\n",
            "\u001b[1m211/211\u001b[0m \u001b[32m━━━━━━━━━━━━━━━━━━━━\u001b[0m\u001b[37m\u001b[0m \u001b[1m0s\u001b[0m 730ms/step - loss: 2.1260\n",
            " mean perplexity: 8.689713478088379 \n",
            "\n",
            "Saved new model!\n",
            "\u001b[1m211/211\u001b[0m \u001b[32m━━━━━━━━━━━━━━━━━━━━\u001b[0m\u001b[37m\u001b[0m \u001b[1m199s\u001b[0m 740ms/step - loss: 2.1260\n",
            "Epoch 14/20\n",
            "\u001b[1m211/211\u001b[0m \u001b[32m━━━━━━━━━━━━━━━━━━━━\u001b[0m\u001b[37m\u001b[0m \u001b[1m0s\u001b[0m 732ms/step - loss: 2.1095\n",
            " mean perplexity: 8.573405265808105 \n",
            "\n",
            "Saved new model!\n",
            "\u001b[1m211/211\u001b[0m \u001b[32m━━━━━━━━━━━━━━━━━━━━\u001b[0m\u001b[37m\u001b[0m \u001b[1m206s\u001b[0m 757ms/step - loss: 2.1095\n",
            "Epoch 15/20\n",
            "\u001b[1m211/211\u001b[0m \u001b[32m━━━━━━━━━━━━━━━━━━━━\u001b[0m\u001b[37m\u001b[0m \u001b[1m0s\u001b[0m 737ms/step - loss: 2.0952\n",
            " mean perplexity: 8.402034759521484 \n",
            "\n",
            "Saved new model!\n",
            "\u001b[1m211/211\u001b[0m \u001b[32m━━━━━━━━━━━━━━━━━━━━\u001b[0m\u001b[37m\u001b[0m \u001b[1m200s\u001b[0m 749ms/step - loss: 2.0952\n",
            "Epoch 16/20\n",
            "\u001b[1m211/211\u001b[0m \u001b[32m━━━━━━━━━━━━━━━━━━━━\u001b[0m\u001b[37m\u001b[0m \u001b[1m0s\u001b[0m 741ms/step - loss: 2.0800\n",
            " mean perplexity: 8.380515098571777 \n",
            "\n",
            "Saved new model!\n",
            "\u001b[1m211/211\u001b[0m \u001b[32m━━━━━━━━━━━━━━━━━━━━\u001b[0m\u001b[37m\u001b[0m \u001b[1m206s\u001b[0m 767ms/step - loss: 2.0800\n",
            "Epoch 17/20\n",
            "\u001b[1m211/211\u001b[0m \u001b[32m━━━━━━━━━━━━━━━━━━━━\u001b[0m\u001b[37m\u001b[0m \u001b[1m0s\u001b[0m 748ms/step - loss: 2.0668\n",
            " mean perplexity: 8.224611282348633 \n",
            "\n",
            "Saved new model!\n",
            "\u001b[1m211/211\u001b[0m \u001b[32m━━━━━━━━━━━━━━━━━━━━\u001b[0m\u001b[37m\u001b[0m \u001b[1m200s\u001b[0m 758ms/step - loss: 2.0668\n",
            "Epoch 18/20\n",
            "\u001b[1m211/211\u001b[0m \u001b[32m━━━━━━━━━━━━━━━━━━━━\u001b[0m\u001b[37m\u001b[0m \u001b[1m0s\u001b[0m 717ms/step - loss: 2.0527\n",
            " mean perplexity: 8.133173942565918 \n",
            "\n",
            "Saved new model!\n",
            "\u001b[1m211/211\u001b[0m \u001b[32m━━━━━━━━━━━━━━━━━━━━\u001b[0m\u001b[37m\u001b[0m \u001b[1m195s\u001b[0m 726ms/step - loss: 2.0527\n",
            "Epoch 19/20\n",
            "\u001b[1m211/211\u001b[0m \u001b[32m━━━━━━━━━━━━━━━━━━━━\u001b[0m\u001b[37m\u001b[0m \u001b[1m0s\u001b[0m 677ms/step - loss: 2.0414\n",
            " mean perplexity: 7.994503021240234 \n",
            "\n",
            "Saved new model!\n",
            "\u001b[1m211/211\u001b[0m \u001b[32m━━━━━━━━━━━━━━━━━━━━\u001b[0m\u001b[37m\u001b[0m \u001b[1m195s\u001b[0m 693ms/step - loss: 2.0414\n",
            "Epoch 20/20\n",
            "\u001b[1m211/211\u001b[0m \u001b[32m━━━━━━━━━━━━━━━━━━━━\u001b[0m\u001b[37m\u001b[0m \u001b[1m0s\u001b[0m 682ms/step - loss: 2.0298\n",
            " mean perplexity: 7.969942092895508 \n",
            "\n",
            "Saved new model!\n",
            "\u001b[1m211/211\u001b[0m \u001b[32m━━━━━━━━━━━━━━━━━━━━\u001b[0m\u001b[37m\u001b[0m \u001b[1m147s\u001b[0m 695ms/step - loss: 2.0298\n"
          ]
        }
      ]
    },
    {
      "cell_type": "code",
      "source": [
        "history_ppl_GRU = []\n",
        "hist_GRU = model_GRU.fit(X, y, epochs=epochs, callbacks=[PplCallback(tokenized_sentences_val,history_ppl_GRU, model_name='model_GRU')], batch_size=256)"
      ],
      "metadata": {
        "colab": {
          "base_uri": "https://localhost:8080/"
        },
        "id": "bDtI1-8JzuGC",
        "outputId": "be0dbad5-96be-47cc-e3ef-9dac821a8fcb"
      },
      "execution_count": 35,
      "outputs": [
        {
          "output_type": "stream",
          "name": "stdout",
          "text": [
            "Epoch 1/20\n",
            "\u001b[1m211/211\u001b[0m \u001b[32m━━━━━━━━━━━━━━━━━━━━\u001b[0m\u001b[37m\u001b[0m \u001b[1m0s\u001b[0m 592ms/step - loss: 3.2868\n",
            " mean perplexity: 13.113889694213867 \n",
            "\n",
            "Saved new model!\n",
            "\u001b[1m211/211\u001b[0m \u001b[32m━━━━━━━━━━━━━━━━━━━━\u001b[0m\u001b[37m\u001b[0m \u001b[1m139s\u001b[0m 623ms/step - loss: 3.2853\n",
            "Epoch 2/20\n",
            "\u001b[1m211/211\u001b[0m \u001b[32m━━━━━━━━━━━━━━━━━━━━\u001b[0m\u001b[37m\u001b[0m \u001b[1m0s\u001b[0m 588ms/step - loss: 2.4834\n",
            " mean perplexity: 9.988473892211914 \n",
            "\n",
            "Saved new model!\n",
            "\u001b[1m211/211\u001b[0m \u001b[32m━━━━━━━━━━━━━━━━━━━━\u001b[0m\u001b[37m\u001b[0m \u001b[1m136s\u001b[0m 597ms/step - loss: 2.4831\n",
            "Epoch 3/20\n",
            "\u001b[1m211/211\u001b[0m \u001b[32m━━━━━━━━━━━━━━━━━━━━\u001b[0m\u001b[37m\u001b[0m \u001b[1m0s\u001b[0m 577ms/step - loss: 2.2893\n",
            " mean perplexity: 9.187134742736816 \n",
            "\n",
            "Saved new model!\n",
            "\u001b[1m211/211\u001b[0m \u001b[32m━━━━━━━━━━━━━━━━━━━━\u001b[0m\u001b[37m\u001b[0m \u001b[1m124s\u001b[0m 590ms/step - loss: 2.2891\n",
            "Epoch 4/20\n",
            "\u001b[1m211/211\u001b[0m \u001b[32m━━━━━━━━━━━━━━━━━━━━\u001b[0m\u001b[37m\u001b[0m \u001b[1m0s\u001b[0m 564ms/step - loss: 2.1845\n",
            " mean perplexity: 8.484956741333008 \n",
            "\n",
            "Saved new model!\n",
            "\u001b[1m211/211\u001b[0m \u001b[32m━━━━━━━━━━━━━━━━━━━━\u001b[0m\u001b[37m\u001b[0m \u001b[1m139s\u001b[0m 572ms/step - loss: 2.1844\n",
            "Epoch 5/20\n",
            "\u001b[1m211/211\u001b[0m \u001b[32m━━━━━━━━━━━━━━━━━━━━\u001b[0m\u001b[37m\u001b[0m \u001b[1m0s\u001b[0m 569ms/step - loss: 2.1025\n",
            " mean perplexity: 8.009227752685547 \n",
            "\n",
            "Saved new model!\n",
            "\u001b[1m211/211\u001b[0m \u001b[32m━━━━━━━━━━━━━━━━━━━━\u001b[0m\u001b[37m\u001b[0m \u001b[1m143s\u001b[0m 578ms/step - loss: 2.1025\n",
            "Epoch 6/20\n",
            "\u001b[1m211/211\u001b[0m \u001b[32m━━━━━━━━━━━━━━━━━━━━\u001b[0m\u001b[37m\u001b[0m \u001b[1m0s\u001b[0m 593ms/step - loss: 2.0338\n",
            " mean perplexity: 7.711300373077393 \n",
            "\n",
            "Saved new model!\n",
            "\u001b[1m211/211\u001b[0m \u001b[32m━━━━━━━━━━━━━━━━━━━━\u001b[0m\u001b[37m\u001b[0m \u001b[1m148s\u001b[0m 605ms/step - loss: 2.0338\n",
            "Epoch 7/20\n",
            "\u001b[1m211/211\u001b[0m \u001b[32m━━━━━━━━━━━━━━━━━━━━\u001b[0m\u001b[37m\u001b[0m \u001b[1m0s\u001b[0m 584ms/step - loss: 1.9764\n",
            " mean perplexity: 7.354219436645508 \n",
            "\n",
            "Saved new model!\n",
            "\u001b[1m211/211\u001b[0m \u001b[32m━━━━━━━━━━━━━━━━━━━━\u001b[0m\u001b[37m\u001b[0m \u001b[1m126s\u001b[0m 597ms/step - loss: 1.9764\n",
            "Epoch 8/20\n",
            "\u001b[1m211/211\u001b[0m \u001b[32m━━━━━━━━━━━━━━━━━━━━\u001b[0m\u001b[37m\u001b[0m \u001b[1m0s\u001b[0m 594ms/step - loss: 1.9281\n",
            " mean perplexity: 7.263151168823242 \n",
            "\n",
            "Saved new model!\n",
            "\u001b[1m211/211\u001b[0m \u001b[32m━━━━━━━━━━━━━━━━━━━━\u001b[0m\u001b[37m\u001b[0m \u001b[1m143s\u001b[0m 603ms/step - loss: 1.9280\n",
            "Epoch 9/20\n",
            "\u001b[1m211/211\u001b[0m \u001b[32m━━━━━━━━━━━━━━━━━━━━\u001b[0m\u001b[37m\u001b[0m \u001b[1m0s\u001b[0m 629ms/step - loss: 1.8842\n",
            " mean perplexity: 7.074784755706787 \n",
            "\n",
            "Saved new model!\n",
            "\u001b[1m211/211\u001b[0m \u001b[32m━━━━━━━━━━━━━━━━━━━━\u001b[0m\u001b[37m\u001b[0m \u001b[1m135s\u001b[0m 638ms/step - loss: 1.8841\n",
            "Epoch 10/20\n",
            "\u001b[1m211/211\u001b[0m \u001b[32m━━━━━━━━━━━━━━━━━━━━\u001b[0m\u001b[37m\u001b[0m \u001b[1m0s\u001b[0m 617ms/step - loss: 1.8481\n",
            " mean perplexity: 7.087722301483154 \n",
            "\n",
            "\u001b[1m211/211\u001b[0m \u001b[32m━━━━━━━━━━━━━━━━━━━━\u001b[0m\u001b[37m\u001b[0m \u001b[1m140s\u001b[0m 629ms/step - loss: 1.8481\n",
            "Epoch 11/20\n",
            "\u001b[1m211/211\u001b[0m \u001b[32m━━━━━━━━━━━━━━━━━━━━\u001b[0m\u001b[37m\u001b[0m \u001b[1m0s\u001b[0m 613ms/step - loss: 1.8167\n",
            " mean perplexity: 6.979574203491211 \n",
            "\n",
            "Saved new model!\n",
            "\u001b[1m211/211\u001b[0m \u001b[32m━━━━━━━━━━━━━━━━━━━━\u001b[0m\u001b[37m\u001b[0m \u001b[1m132s\u001b[0m 626ms/step - loss: 1.8167\n",
            "Epoch 12/20\n",
            "\u001b[1m211/211\u001b[0m \u001b[32m━━━━━━━━━━━━━━━━━━━━\u001b[0m\u001b[37m\u001b[0m \u001b[1m0s\u001b[0m 595ms/step - loss: 1.7906\n",
            " mean perplexity: 7.088535308837891 \n",
            "\n",
            "\u001b[1m211/211\u001b[0m \u001b[32m━━━━━━━━━━━━━━━━━━━━\u001b[0m\u001b[37m\u001b[0m \u001b[1m137s\u001b[0m 603ms/step - loss: 1.7906\n",
            "Epoch 13/20\n",
            "\u001b[1m211/211\u001b[0m \u001b[32m━━━━━━━━━━━━━━━━━━━━\u001b[0m\u001b[37m\u001b[0m \u001b[1m0s\u001b[0m 590ms/step - loss: 1.7656\n",
            " mean perplexity: 6.9649977684021 \n",
            "\n",
            "Saved new model!\n",
            "\u001b[1m211/211\u001b[0m \u001b[32m━━━━━━━━━━━━━━━━━━━━\u001b[0m\u001b[37m\u001b[0m \u001b[1m141s\u001b[0m 598ms/step - loss: 1.7656\n",
            "Epoch 14/20\n",
            "\u001b[1m211/211\u001b[0m \u001b[32m━━━━━━━━━━━━━━━━━━━━\u001b[0m\u001b[37m\u001b[0m \u001b[1m0s\u001b[0m 589ms/step - loss: 1.7417\n",
            " mean perplexity: 6.949045658111572 \n",
            "\n",
            "Saved new model!\n",
            "\u001b[1m211/211\u001b[0m \u001b[32m━━━━━━━━━━━━━━━━━━━━\u001b[0m\u001b[37m\u001b[0m \u001b[1m126s\u001b[0m 597ms/step - loss: 1.7416\n",
            "Epoch 15/20\n",
            "\u001b[1m211/211\u001b[0m \u001b[32m━━━━━━━━━━━━━━━━━━━━\u001b[0m\u001b[37m\u001b[0m \u001b[1m0s\u001b[0m 592ms/step - loss: 1.7227\n",
            " mean perplexity: 6.911356449127197 \n",
            "\n",
            "Saved new model!\n",
            "\u001b[1m211/211\u001b[0m \u001b[32m━━━━━━━━━━━━━━━━━━━━\u001b[0m\u001b[37m\u001b[0m \u001b[1m143s\u001b[0m 600ms/step - loss: 1.7227\n",
            "Epoch 16/20\n",
            "\u001b[1m211/211\u001b[0m \u001b[32m━━━━━━━━━━━━━━━━━━━━\u001b[0m\u001b[37m\u001b[0m \u001b[1m0s\u001b[0m 592ms/step - loss: 1.7058\n",
            " mean perplexity: 6.834702014923096 \n",
            "\n",
            "Saved new model!\n",
            "\u001b[1m211/211\u001b[0m \u001b[32m━━━━━━━━━━━━━━━━━━━━\u001b[0m\u001b[37m\u001b[0m \u001b[1m143s\u001b[0m 605ms/step - loss: 1.7058\n",
            "Epoch 17/20\n",
            "\u001b[1m211/211\u001b[0m \u001b[32m━━━━━━━━━━━━━━━━━━━━\u001b[0m\u001b[37m\u001b[0m \u001b[1m0s\u001b[0m 593ms/step - loss: 1.6874\n",
            " mean perplexity: 6.755593299865723 \n",
            "\n",
            "Saved new model!\n",
            "\u001b[1m211/211\u001b[0m \u001b[32m━━━━━━━━━━━━━━━━━━━━\u001b[0m\u001b[37m\u001b[0m \u001b[1m142s\u001b[0m 605ms/step - loss: 1.6873\n",
            "Epoch 18/20\n",
            "\u001b[1m211/211\u001b[0m \u001b[32m━━━━━━━━━━━━━━━━━━━━\u001b[0m\u001b[37m\u001b[0m \u001b[1m0s\u001b[0m 593ms/step - loss: 1.6721\n",
            " mean perplexity: 6.865849018096924 \n",
            "\n",
            "\u001b[1m211/211\u001b[0m \u001b[32m━━━━━━━━━━━━━━━━━━━━\u001b[0m\u001b[37m\u001b[0m \u001b[1m142s\u001b[0m 602ms/step - loss: 1.6721\n",
            "Epoch 19/20\n",
            "\u001b[1m211/211\u001b[0m \u001b[32m━━━━━━━━━━━━━━━━━━━━\u001b[0m\u001b[37m\u001b[0m \u001b[1m0s\u001b[0m 586ms/step - loss: 1.6564\n",
            " mean perplexity: 6.765848636627197 \n",
            "\n",
            "\u001b[1m211/211\u001b[0m \u001b[32m━━━━━━━━━━━━━━━━━━━━\u001b[0m\u001b[37m\u001b[0m \u001b[1m141s\u001b[0m 595ms/step - loss: 1.6564\n",
            "Epoch 20/20\n",
            "\u001b[1m211/211\u001b[0m \u001b[32m━━━━━━━━━━━━━━━━━━━━\u001b[0m\u001b[37m\u001b[0m \u001b[1m0s\u001b[0m 589ms/step - loss: 1.6438\n",
            " mean perplexity: 6.884641170501709 \n",
            "\n",
            "\u001b[1m211/211\u001b[0m \u001b[32m━━━━━━━━━━━━━━━━━━━━\u001b[0m\u001b[37m\u001b[0m \u001b[1m145s\u001b[0m 614ms/step - loss: 1.6438\n"
          ]
        }
      ]
    },
    {
      "cell_type": "code",
      "source": [
        "import matplotlib.pyplot as plt\n",
        "import seaborn as sns\n",
        "\n",
        "def plot_training_curve(history_ppl, model_name):\n",
        "    \"\"\"\n",
        "    Grafica la curva de perplejidad durante el entrenamiento.\n",
        "\n",
        "    Parámetros:\n",
        "    - history_ppl: lista de valores de perplejidad por época\n",
        "    - model_name: nombre del modelo (usado como título del gráfico)\n",
        "    \"\"\"\n",
        "    sns.set_theme(style=\"whitegrid\")\n",
        "\n",
        "    epochs = list(range(1, len(history_ppl) + 1))\n",
        "\n",
        "    plt.figure(figsize=(10, 6))\n",
        "    sns.lineplot(x=epochs, y=history_ppl, marker=\"o\", color=\"red\")\n",
        "\n",
        "    # Etiquetas y título\n",
        "    plt.title(f\"Perplejidad por Epochs – {model_name}\", fontsize=12, weight='bold')\n",
        "    plt.xlabel(\"Epoch\", fontsize=12)\n",
        "    plt.ylabel(\"Perplejidad\", fontsize=12)\n",
        "    plt.xticks(epochs)\n",
        "    plt.grid(True, linestyle='--', alpha=0.5)\n",
        "\n",
        "    # Anotar el último valor\n",
        "    plt.annotate(f\"{history_ppl[-1]:.2f}\",\n",
        "                 xy=(epochs[-1], history_ppl[-1]),\n",
        "                 xytext=(epochs[-1], history_ppl[-1] * 1.05),\n",
        "                 fontsize=10,\n",
        "                 ha='center',\n",
        "                 arrowprops=dict(arrowstyle=\"->\", lw=1))\n",
        "\n",
        "    plt.tight_layout()\n",
        "    plt.show()"
      ],
      "metadata": {
        "id": "LE5Fhy4EVlnV"
      },
      "execution_count": 36,
      "outputs": []
    },
    {
      "cell_type": "code",
      "source": [
        "plot_training_curve(history_ppl_simpleRNN, \"model_simpleRNN\")\n",
        "plot_training_curve(history_ppl_LSTM, \"model_LSTM\")\n",
        "plot_training_curve(history_ppl_GRU, \"model_GRU\")"
      ],
      "metadata": {
        "colab": {
          "base_uri": "https://localhost:8080/",
          "height": 1000
        },
        "id": "f5ty-RzbVuEm",
        "outputId": "4a00a230-5c70-423a-e3d7-71c956655bfa"
      },
      "execution_count": 37,
      "outputs": [
        {
          "output_type": "display_data",
          "data": {
            "text/plain": [
              "<Figure size 1000x600 with 1 Axes>"
            ],
            "image/png": "[encoded data removed]"
          },
          "metadata": {}
        },
        {
          "output_type": "display_data",
          "data": {
            "text/plain": [
              "<Figure size 1000x600 with 1 Axes>"
            ],
            "image/png": "[encoded data removed]"
          },
          "metadata": {}
        },
        {
          "output_type": "display_data",
          "data": {
            "text/plain": [
              "<Figure size 1000x600 with 1 Axes>"
            ],
            "image/png": "[encoded data removed]"
          },
          "metadata": {}
        }
      ]
    },
    {
      "cell_type": "markdown",
      "source": [
        "#### Conclusión del desempeño de los modelos"
      ],
      "metadata": {
        "id": "PcDn1wF7WqWO"
      }
    },
    {
      "cell_type": "markdown",
      "source": [
        "El modelo GRU tuvo la menor perplejidad, aunque al valor que llegó (6,88), ya estaba lateralizando. En cambio el modelo LSTM tiene una tendencia a la baja, así que si se hubiera siguido entrenando, quizás superaba al modelo GRU. El modelo SimpleRNN en cambio tuvo un desempeño errático."
      ],
      "metadata": {
        "id": "h5RBIRdrWx_c"
      }
    },
    {
      "cell_type": "markdown",
      "source": [
        "### Predicción y pruebas de modelos"
      ],
      "metadata": {
        "id": "l5ofDQFqOAVO"
      }
    },
    {
      "cell_type": "code",
      "source": [
        "# Cargamos los mejores modelos guardados\n",
        "model_simpleRNN = keras.models.load_model('model_simpleRNN.keras')\n",
        "model_LSTM = keras.models.load_model('model_LSTM.keras')\n",
        "model_GRU = keras.models.load_model('model_GRU.keras')"
      ],
      "metadata": {
        "id": "tJzPqeeT2g6E"
      },
      "execution_count": 38,
      "outputs": []
    },
    {
      "cell_type": "markdown",
      "source": [
        "### Predicción de la próxima palabra"
      ],
      "metadata": {
        "id": "LDPiuQWxPFKQ"
      }
    },
    {
      "cell_type": "code",
      "source": [
        "# Se puede usar gradio para probar el modelo\n",
        "# Gradio es una herramienta muy útil para crear interfaces para ensayar modelos\n",
        "# https://gradio.app/\n",
        "\n",
        "!pip install -q gradio"
      ],
      "metadata": {
        "id": "8uJVOqpi2l7Y"
      },
      "execution_count": 39,
      "outputs": []
    },
    {
      "cell_type": "code",
      "source": [
        "import gradio as gr\n",
        "\n",
        "def model_response(human_text, model=model_GRU):\n",
        "\n",
        "    # Encodeamos\n",
        "    encoded = [char2idx[ch] for ch in human_text.lower() ]\n",
        "    # Si tienen distinto largo\n",
        "    encoded = pad_sequences([encoded], maxlen=max_context_size, padding='pre')\n",
        "\n",
        "    # Predicción softmax\n",
        "    y_hat = np.argmax(model.predict(encoded)[0,-1,:])\n",
        "\n",
        "\n",
        "    # Debemos buscar en el vocabulario el caracter\n",
        "    # que corresopnde al indice (y_hat) predicho por le modelo\n",
        "    out_word = ''\n",
        "    out_word = idx2char[y_hat]\n",
        "\n",
        "    # Agrego la palabra a la frase predicha\n",
        "    return human_text + out_word"
      ],
      "metadata": {
        "id": "NZWXJI24qGX0"
      },
      "execution_count": 85,
      "outputs": []
    },
    {
      "cell_type": "code",
      "source": [
        "iface = gr.Interface(\n",
        "    fn=model_response,\n",
        "    inputs=[\"textbox\"],\n",
        "    outputs=\"text\")\n",
        "\n",
        "iface.launch(debug=True)"
      ],
      "metadata": {
        "colab": {
          "base_uri": "https://localhost:8080/",
          "height": 680
        },
        "id": "9cShwPaf4tFd",
        "outputId": "b9e3e8d8-6656-4a17-c7cb-fe7398735497"
      },
      "execution_count": 86,
      "outputs": [
        {
          "output_type": "stream",
          "name": "stdout",
          "text": [
            "It looks like you are running Gradio on a hosted a Jupyter notebook. For the Gradio app to work, sharing must be enabled. Automatically setting `share=True` (you can turn this off by setting `share=False` in `launch()` explicitly).\n",
            "\n",
            "Colab notebook detected. This cell will run indefinitely so that you can see errors and logs. To turn off, set debug=False in launch().\n",
            "* Running on public URL: https://e4d92e7dcaa039f628.gradio.live\n",
            "\n",
            "This share link expires in 1 week. For free permanent hosting and GPU upgrades, run `gradio deploy` from the terminal in the working directory to deploy to Hugging Face Spaces (https://huggingface.co/spaces)\n"
          ]
        },
        {
          "output_type": "display_data",
          "data": {
            "text/plain": [
              "<IPython.core.display.HTML object>"
            ],
            "text/html": [
              "<div><iframe src=\"https://e4d92e7dcaa039f628.gradio.live\" width=\"100%\" height=\"500\" allow=\"autoplay; camera; microphone; clipboard-read; clipboard-write;\" frameborder=\"0\" allowfullscreen></iframe></div>"
            ]
          },
          "metadata": {}
        },
        {
          "output_type": "stream",
          "name": "stdout",
          "text": [
            "Keyboard interruption in main thread... closing server.\n",
            "Killing tunnel 127.0.0.1:7860 <> https://e4d92e7dcaa039f628.gradio.live\n"
          ]
        },
        {
          "output_type": "execute_result",
          "data": {
            "text/plain": []
          },
          "metadata": {},
          "execution_count": 86
        }
      ]
    },
    {
      "cell_type": "code",
      "source": [
        "text = \"definitivament\"\n",
        "print(f'Respuesta SimpleRNN: {model_response(text, model_simpleRNN)}')\n",
        "print(f'Respuesta LSTM: { model_response(text, model_LSTM) }')\n",
        "print(f'Respuesta GRU: {model_response(text, model_GRU)}')"
      ],
      "metadata": {
        "colab": {
          "base_uri": "https://localhost:8080/"
        },
        "id": "VSSJCmpmT-h7",
        "outputId": "9a9fdeb2-8827-477b-9c8c-8042585675bc"
      },
      "execution_count": 89,
      "outputs": [
        {
          "output_type": "stream",
          "name": "stdout",
          "text": [
            "\u001b[1m1/1\u001b[0m \u001b[32m━━━━━━━━━━━━━━━━━━━━\u001b[0m\u001b[37m\u001b[0m \u001b[1m0s\u001b[0m 81ms/step\n",
            "Respuesta SimpleRNN: definitivamente\n",
            "\u001b[1m1/1\u001b[0m \u001b[32m━━━━━━━━━━━━━━━━━━━━\u001b[0m\u001b[37m\u001b[0m \u001b[1m0s\u001b[0m 92ms/step\n",
            "Respuesta LSTM: definitivamente\n",
            "\u001b[1m1/1\u001b[0m \u001b[32m━━━━━━━━━━━━━━━━━━━━\u001b[0m\u001b[37m\u001b[0m \u001b[1m0s\u001b[0m 69ms/step\n",
            "Respuesta GRU: definitivamente\n"
          ]
        }
      ]
    },
    {
      "cell_type": "markdown",
      "source": [
        "### Generación de secuencias"
      ],
      "metadata": {
        "id": "ZAWKy_jYPy7f"
      }
    },
    {
      "cell_type": "markdown",
      "source": [
        "### Greedy search"
      ],
      "metadata": {
        "id": "og6c0qd6QM-J"
      }
    },
    {
      "cell_type": "code",
      "source": [
        "def generate_seq(model, seed_text, max_length, n_words):\n",
        "    \"\"\"\n",
        "        Exec model sequence prediction\n",
        "\n",
        "        Args:\n",
        "            model (keras): modelo entrenado\n",
        "            seed_text (string): texto de entrada (input_seq)\n",
        "            max_length (int): máxima longitud de la sequencia de entrada\n",
        "            n_words (int): números de caracteres a agregar a la sequencia de entrada\n",
        "        returns:\n",
        "            output_text (string): sentencia con las \"n_words\" agregadas\n",
        "    \"\"\"\n",
        "    output_text = seed_text\n",
        "\t# generate a fixed number of words\n",
        "    for _ in range(n_words):\n",
        "\t\t# Encodeamos\n",
        "        encoded = [char2idx[ch] for ch in output_text.lower() ]\n",
        "\t\t# Si tienen distinto largo\n",
        "        encoded = pad_sequences([encoded], maxlen=max_length, padding='pre')\n",
        "\n",
        "\t\t# Predicción softmax\n",
        "        y_hat = np.argmax(model.predict(encoded,verbose=0)[0,-1,:])\n",
        "\t\t# Vamos concatenando las predicciones\n",
        "        out_word = ''\n",
        "\n",
        "        out_word = idx2char[y_hat]\n",
        "\n",
        "\t\t# Agrego las palabras a la frase predicha\n",
        "        output_text += out_word\n",
        "    return output_text"
      ],
      "metadata": {
        "id": "-p0_oEu349yB"
      },
      "execution_count": 42,
      "outputs": []
    },
    {
      "cell_type": "code",
      "source": [
        "input_text='habia una vez'\n",
        "\n",
        "print(generate_seq(model_simpleRNN, input_text, max_length=max_context_size, n_words=30))\n",
        "print(generate_seq(model_LSTM, input_text, max_length=max_context_size, n_words=30))\n",
        "print(generate_seq(model_GRU, input_text, max_length=max_context_size, n_words=30))"
      ],
      "metadata": {
        "colab": {
          "base_uri": "https://localhost:8080/"
        },
        "id": "N0RaDI_h-Qws",
        "outputId": "5294a156-e0e7-40fb-ef80-4996c1145819"
      },
      "execution_count": 43,
      "outputs": [
        {
          "output_type": "stream",
          "name": "stdout",
          "text": [
            "habia una vez al presenta de la cabeza de l\n",
            "habia una vezada de la caballada de la caba\n",
            "habia una vez de la cabeza de la cabeza de \n"
          ]
        }
      ]
    },
    {
      "cell_type": "code",
      "source": [
        "input_text='en esta ocasión funciona'\n",
        "\n",
        "print(generate_seq(model_simpleRNN, input_text, max_length=max_context_size, n_words=30))\n",
        "print(generate_seq(model_LSTM, input_text, max_length=max_context_size, n_words=30))\n",
        "print(generate_seq(model_GRU, input_text, max_length=max_context_size, n_words=30))"
      ],
      "metadata": {
        "colab": {
          "base_uri": "https://localhost:8080/"
        },
        "id": "_Gg5E9esAcD-",
        "outputId": "39d1efe9-c369-403a-da2e-3a55b8f77564"
      },
      "execution_count": 44,
      "outputs": [
        {
          "output_type": "stream",
          "name": "stdout",
          "text": [
            "en esta ocasión funciona al destonte de la cabeza de l\n",
            "en esta ocasión funciona en esta a la caballa de la ca\n",
            "en esta ocasión funciona la cabeza de la cabeza de la \n"
          ]
        }
      ]
    },
    {
      "cell_type": "code",
      "source": [
        "input_text='cuidado con la serpiente'\n",
        "\n",
        "print(generate_seq(model_simpleRNN, input_text, max_length=max_context_size, n_words=30))\n",
        "print(generate_seq(model_LSTM, input_text, max_length=max_context_size, n_words=30))\n",
        "print(generate_seq(model_GRU, input_text, max_length=max_context_size, n_words=30))"
      ],
      "metadata": {
        "colab": {
          "base_uri": "https://localhost:8080/"
        },
        "id": "cMRXsrMyBCIe",
        "outputId": "1ff89e23-2e38-4d40-b74d-41cc005e190e"
      },
      "execution_count": 45,
      "outputs": [
        {
          "output_type": "stream",
          "name": "stdout",
          "text": [
            "cuidado con la serpiente de la cabeza de la cabeza de \n",
            "cuidado con la serpiente de la caballa de la caballada\n",
            "cuidado con la serpiente de la cabeza de la cabeza de \n"
          ]
        }
      ]
    },
    {
      "cell_type": "code",
      "source": [
        "input_text='¿y ahora que pasa?'\n",
        "\n",
        "print(generate_seq(model_simpleRNN, input_text, max_length=max_context_size, n_words=30))\n",
        "print(generate_seq(model_LSTM, input_text, max_length=max_context_size, n_words=30))\n",
        "print(generate_seq(model_GRU, input_text, max_length=max_context_size, n_words=30))"
      ],
      "metadata": {
        "colab": {
          "base_uri": "https://localhost:8080/"
        },
        "id": "KYpprc9QYKfg",
        "outputId": "38d22253-a964-43e7-82de-1b0fe319afef"
      },
      "execution_count": 46,
      "outputs": [
        {
          "output_type": "stream",
          "name": "stdout",
          "text": [
            "¿y ahora que pasa?\n",
            "—¡Na aste la cabeza de la cab\n",
            "¿y ahora que pasa? —reperto de la caballa de la \n",
            "¿y ahora que pasa? —repuso el perro de la cabeza\n"
          ]
        }
      ]
    },
    {
      "cell_type": "markdown",
      "source": [
        "### Beam Search"
      ],
      "metadata": {
        "id": "VXGl3CnPBi-Y"
      }
    },
    {
      "cell_type": "code",
      "source": [
        "# funcionalidades para hacer encoding y decoding\n",
        "\n",
        "def encode(text,max_length=max_context_size):\n",
        "\n",
        "    encoded = [char2idx[ch] for ch in text]\n",
        "    encoded = pad_sequences([encoded], maxlen=max_length, padding='pre')\n",
        "\n",
        "    return encoded\n",
        "\n",
        "def decode(seq):\n",
        "    return ''.join([idx2char[ch] for ch in seq])"
      ],
      "metadata": {
        "id": "feBVS_RiBma9"
      },
      "execution_count": 73,
      "outputs": []
    },
    {
      "cell_type": "code",
      "source": [
        "from scipy.special import softmax\n",
        "\n",
        "# función que selecciona candidatos para el beam search\n",
        "def select_candidates(pred,num_beams,vocab_size,history_probs,history_tokens,temp,mode):\n",
        "\n",
        "  # colectar todas las probabilidades para la siguiente búsqueda\n",
        "  pred_large = []\n",
        "\n",
        "  for idx,pp in enumerate(pred):\n",
        "    pred_large.extend(np.log(pp+1E-10)+history_probs[idx])\n",
        "\n",
        "  pred_large = np.array(pred_large)\n",
        "\n",
        "  # criterio de selección\n",
        "  if mode == 'det':\n",
        "    idx_select = np.argsort(pred_large)[::-1][:num_beams] # beam search determinista\n",
        "  elif mode == 'sto':\n",
        "    idx_select = np.random.choice(np.arange(pred_large.shape[0]), num_beams, p=softmax(pred_large/temp)) # beam search con muestreo aleatorio\n",
        "  else:\n",
        "    raise ValueError(f'Wrong selection mode. {mode} was given. det and sto are supported.')\n",
        "\n",
        "  # traducir a índices de token en el vocabulario\n",
        "  new_history_tokens = np.concatenate((np.array(history_tokens)[idx_select//vocab_size],\n",
        "                        np.array([idx_select%vocab_size]).T),\n",
        "                      axis=1)\n",
        "\n",
        "  # devolver el producto de las probabilidades (log) y la secuencia de tokens seleccionados\n",
        "  return pred_large[idx_select.astype(int)], new_history_tokens.astype(int)\n",
        "\n",
        "\n",
        "def beam_search(model,num_beams,num_words,input,temp=1,mode='det'):\n",
        "\n",
        "    # first iteration\n",
        "\n",
        "    # encode\n",
        "    encoded = encode(input)\n",
        "\n",
        "    # first prediction\n",
        "    y_hat = model.predict(encoded,verbose=0)[0,-1,:]\n",
        "\n",
        "    # get vocabulary size\n",
        "    vocab_size = y_hat.shape[0]\n",
        "\n",
        "    # initialize history\n",
        "    history_probs = [0]*num_beams\n",
        "    history_tokens = [encoded[0]]*num_beams\n",
        "\n",
        "    # select num_beams candidates\n",
        "    history_probs, history_tokens = select_candidates([y_hat],\n",
        "                                        num_beams,\n",
        "                                        vocab_size,\n",
        "                                        history_probs,\n",
        "                                        history_tokens,\n",
        "                                        temp,\n",
        "                                        mode)\n",
        "\n",
        "    # beam search loop\n",
        "    for i in range(num_words-1):\n",
        "\n",
        "      preds = []\n",
        "\n",
        "      for hist in history_tokens:\n",
        "\n",
        "        # actualizar secuencia de tokens\n",
        "        input_update = np.array([hist[i+1:]]).copy()\n",
        "\n",
        "        # predicción\n",
        "        y_hat = model.predict(input_update,verbose=0)[0,-1,:]\n",
        "\n",
        "        preds.append(y_hat)\n",
        "\n",
        "      history_probs, history_tokens = select_candidates(preds,\n",
        "                                                        num_beams,\n",
        "                                                        vocab_size,\n",
        "                                                        history_probs,\n",
        "                                                        history_tokens,\n",
        "                                                        temp,\n",
        "                                                        mode)\n",
        "\n",
        "    return history_tokens[:,-(len(input)+num_words):]"
      ],
      "metadata": {
        "id": "OIQt0d1-CV_m"
      },
      "execution_count": 77,
      "outputs": []
    },
    {
      "cell_type": "code",
      "source": [
        "def run_grid_search_beam():\n",
        "    modelos = {\n",
        "        'SimpleRNN': model_simpleRNN,\n",
        "        'LSTM': model_LSTM,\n",
        "        'GRU': model_GRU\n",
        "    }\n",
        "\n",
        "    temps = [1, 2, 3, 4, 5]\n",
        "    modos = ['det', 'sto']\n",
        "\n",
        "    resultados = []\n",
        "\n",
        "    for nombre_modelo, modelo in modelos.items():\n",
        "        for temp in temps:\n",
        "            for mode in modos:\n",
        "                print(f\"▶ Ejecutando: Modelo={nombre_modelo}, temp={temp}, mode={mode}\")\n",
        "                salida = beam_search(\n",
        "                    model=modelo,\n",
        "                    num_beams=10,\n",
        "                    num_words=30,\n",
        "                    input=\"van caminando hacia el río\",\n",
        "                    temp=temp,\n",
        "                    mode=mode\n",
        "                )\n",
        "                resultados.append({\n",
        "                    \"modelo\": nombre_modelo,\n",
        "                    \"temp\": temp,\n",
        "                    \"mode\": mode,\n",
        "                    \"output\": salida\n",
        "                })\n",
        "                print(decode(salida[0]))\n",
        "\n",
        "    #return resultados\n"
      ],
      "metadata": {
        "id": "NOYcNAgNa3vE"
      },
      "execution_count": 78,
      "outputs": []
    },
    {
      "cell_type": "code",
      "source": [
        "run_grid_search_beam()\n"
      ],
      "metadata": {
        "colab": {
          "base_uri": "https://localhost:8080/"
        },
        "id": "wmcbo9_lgGxu",
        "outputId": "0129cfec-dba8-425e-f47b-b60fc0b11bc1"
      },
      "execution_count": 79,
      "outputs": [
        {
          "output_type": "stream",
          "name": "stdout",
          "text": [
            "▶ Ejecutando: Modelo=SimpleRNN, temp=1, mode=det\n",
            "van caminando hacia el río contra las víboras, la cabeza\n",
            "▶ Ejecutando: Modelo=SimpleRNN, temp=1, mode=sto\n",
            "van caminando hacia el río contra de las víboras, la cal\n",
            "▶ Ejecutando: Modelo=SimpleRNN, temp=2, mode=det\n",
            "van caminando hacia el río contra las víboras, la cabeza\n",
            "▶ Ejecutando: Modelo=SimpleRNN, temp=2, mode=sto\n",
            "van caminando hacia el río coma se el sus destante segue\n",
            "▶ Ejecutando: Modelo=SimpleRNN, temp=3, mode=det\n",
            "van caminando hacia el río contra las víboras, la cabeza\n",
            "▶ Ejecutando: Modelo=SimpleRNN, temp=3, mode=sto\n",
            "van caminando hacia el ríotios! ¡Es másdosos… Por\n",
            "cueda—\n",
            "▶ Ejecutando: Modelo=SimpleRNN, temp=4, mode=det\n",
            "van caminando hacia el río contra las víboras, la cabeza\n",
            "▶ Ejecutando: Modelo=SimpleRNN, temp=4, mode=sto\n",
            "van caminando hacia el río, migó, yala Cras… Magér aisa,\n",
            "▶ Ejecutando: Modelo=SimpleRNN, temp=5, mode=det\n",
            "van caminando hacia el río contra las víboras, la cabeza\n",
            "▶ Ejecutando: Modelo=SimpleRNN, temp=5, mode=sto\n",
            "van caminando hacia el ríondanos h iplo.eLa leoreelor,\n",
            "q\n",
            "▶ Ejecutando: Modelo=LSTM, temp=1, mode=det\n",
            "van caminando hacia el río que las de las de las de las \n",
            "▶ Ejecutando: Modelo=LSTM, temp=1, mode=sto\n",
            "van caminando hacia el ríos que la víbora de las para ma\n",
            "▶ Ejecutando: Modelo=LSTM, temp=2, mode=det\n",
            "van caminando hacia el río que las de las de las de las \n",
            "▶ Ejecutando: Modelo=LSTM, temp=2, mode=sto\n",
            "van caminando hacia el ríocada a raperita, carna aquelas\n",
            "▶ Ejecutando: Modelo=LSTM, temp=3, mode=det\n",
            "van caminando hacia el río que las de las de las de las \n",
            "▶ Ejecutando: Modelo=LSTM, temp=3, mode=sto\n",
            "van caminando hacia el ríosintad, un selos. Ensabita seq\n",
            "▶ Ejecutando: Modelo=LSTM, temp=4, mode=det\n",
            "van caminando hacia el río que las de las de las de las \n",
            "▶ Ejecutando: Modelo=LSTM, temp=4, mode=sto\n",
            "van caminando hacia el ríollo dagó lacíbla istadar\n",
            "nodíB\n",
            "▶ Ejecutando: Modelo=LSTM, temp=5, mode=det\n",
            "van caminando hacia el río que las de las de las de las \n",
            "▶ Ejecutando: Modelo=LSTM, temp=5, mode=sto\n",
            "van caminando hacia el ríonaí?\n",
            ";Muleguntercividas. —Y Cú\n",
            "▶ Ejecutando: Modelo=GRU, temp=1, mode=det\n",
            "van caminando hacia el río que las víboras de las víbora\n",
            "▶ Ejecutando: Modelo=GRU, temp=1, mode=sto\n",
            "van caminando hacia el río que había un perro de la yara\n",
            "▶ Ejecutando: Modelo=GRU, temp=2, mode=det\n",
            "van caminando hacia el río que las víboras de las víbora\n",
            "▶ Ejecutando: Modelo=GRU, temp=2, mode=sto\n",
            "van caminando hacia el río que el prortirado…\n",
            "—¡Y mayó H\n",
            "▶ Ejecutando: Modelo=GRU, temp=3, mode=det\n",
            "van caminando hacia el río que las víboras de las víbora\n",
            "▶ Ejecutando: Modelo=GRU, temp=3, mode=sto\n",
            "van caminando hacia el río comenzaban\n",
            "anemira de lo ques\n",
            "▶ Ejecutando: Modelo=GRU, temp=4, mode=det\n",
            "van caminando hacia el río que las víboras de las víbora\n",
            "▶ Ejecutando: Modelo=GRU, temp=4, mode=sto\n",
            "van caminando hacia el río que ninuíbo\n",
            "arla\n",
            "estuy cuevi…\n",
            "▶ Ejecutando: Modelo=GRU, temp=5, mode=det\n",
            "van caminando hacia el río que las víboras de las víbora\n",
            "▶ Ejecutando: Modelo=GRU, temp=5, mode=sto\n",
            "van caminando hacia el río mbnanstáno ebrohor y sos pini\n"
          ]
        }
      ]
    },
    {
      "cell_type": "markdown",
      "source": [
        "### Conclusión"
      ],
      "metadata": {
        "id": "FQUgVNLESA1u"
      }
    },
    {
      "cell_type": "markdown",
      "source": [
        "Utilicé la técnica de beam search con num_beams = 10 y num_words = 30, variando dos parámetros clave:\n",
        "\n",
        "- temp (temperatura): de 1 a 5\n",
        "\n",
        "- mode: 'det' (determinístico) y 'sto' (estocástico)\n",
        "\n",
        "Esto resultó en una grid search exhaustiva con 30 combinaciones por modelo.\n",
        "\n",
        "Las temperaturas 1–2 producen salidas conservadoras, repetitivas.\n",
        "\n",
        "Las temperaturas 4–5 inducen ruido, errores gramaticales y pérdida de contexto.\n",
        "\n",
        "El modo 'sto' con temperatura intermedia permite una mayor creatividad sin sacrificar coherencia.\n",
        "\n",
        "El modelo LSTM con temperatura 2–3 en modo estocástico fue el que logró mejores resultados subjetivos en cuanto a estilo y continuidad narrativa.\n",
        "\n",
        "La elección del nivel de aleatoriedad (temp) es tan relevante como la arquitectura dado que no existe un buen modelo si se lo evalúa con una temperatura inadecuada."
      ],
      "metadata": {
        "id": "ImB9MpBebJwG"
      }
    }
  ]
}